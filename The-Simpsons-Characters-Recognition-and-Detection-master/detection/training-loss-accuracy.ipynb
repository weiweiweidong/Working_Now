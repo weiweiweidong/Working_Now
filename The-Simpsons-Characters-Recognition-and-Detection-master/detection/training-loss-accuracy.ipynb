{
 "cells": [
  {
   "cell_type": "code",
   "execution_count": 2,
   "metadata": {},
   "outputs": [
    {
     "data": {
      "text/html": [
       "<div>\n",
       "<style scoped>\n",
       "    .dataframe tbody tr th:only-of-type {\n",
       "        vertical-align: middle;\n",
       "    }\n",
       "\n",
       "    .dataframe tbody tr th {\n",
       "        vertical-align: top;\n",
       "    }\n",
       "\n",
       "    .dataframe thead th {\n",
       "        text-align: right;\n",
       "    }\n",
       "</style>\n",
       "<table border=\"1\" class=\"dataframe\">\n",
       "  <thead>\n",
       "    <tr style=\"text-align: right;\">\n",
       "      <th></th>\n",
       "      <th>Test_Accuracy</th>\n",
       "      <th>Training_Accuracy</th>\n",
       "      <th>RPN classifier</th>\n",
       "      <th>RPN regression</th>\n",
       "      <th>Detector classifier</th>\n",
       "      <th>Detector regression</th>\n",
       "      <th>Total</th>\n",
       "    </tr>\n",
       "  </thead>\n",
       "  <tbody>\n",
       "    <tr>\n",
       "      <th>0</th>\n",
       "      <td>0.000000</td>\n",
       "      <td>0.53150</td>\n",
       "      <td>1.758115</td>\n",
       "      <td>0.120984</td>\n",
       "      <td>2.190086</td>\n",
       "      <td>0.587861</td>\n",
       "      <td>4.657046</td>\n",
       "    </tr>\n",
       "    <tr>\n",
       "      <th>1</th>\n",
       "      <td>0.000000</td>\n",
       "      <td>0.52900</td>\n",
       "      <td>1.492781</td>\n",
       "      <td>0.114672</td>\n",
       "      <td>1.939409</td>\n",
       "      <td>0.444111</td>\n",
       "      <td>3.990972</td>\n",
       "    </tr>\n",
       "    <tr>\n",
       "      <th>2</th>\n",
       "      <td>0.000000</td>\n",
       "      <td>0.53425</td>\n",
       "      <td>1.632648</td>\n",
       "      <td>0.104796</td>\n",
       "      <td>1.786337</td>\n",
       "      <td>0.400591</td>\n",
       "      <td>3.924373</td>\n",
       "    </tr>\n",
       "    <tr>\n",
       "      <th>3</th>\n",
       "      <td>0.000000</td>\n",
       "      <td>0.54650</td>\n",
       "      <td>1.805113</td>\n",
       "      <td>0.110963</td>\n",
       "      <td>1.698521</td>\n",
       "      <td>0.366394</td>\n",
       "      <td>3.980992</td>\n",
       "    </tr>\n",
       "    <tr>\n",
       "      <th>4</th>\n",
       "      <td>0.000606</td>\n",
       "      <td>0.53975</td>\n",
       "      <td>1.533741</td>\n",
       "      <td>0.131131</td>\n",
       "      <td>1.693615</td>\n",
       "      <td>0.369183</td>\n",
       "      <td>3.727670</td>\n",
       "    </tr>\n",
       "    <tr>\n",
       "      <th>...</th>\n",
       "      <td>...</td>\n",
       "      <td>...</td>\n",
       "      <td>...</td>\n",
       "      <td>...</td>\n",
       "      <td>...</td>\n",
       "      <td>...</td>\n",
       "      <td>...</td>\n",
       "    </tr>\n",
       "    <tr>\n",
       "      <th>67</th>\n",
       "      <td>0.006061</td>\n",
       "      <td>0.78350</td>\n",
       "      <td>0.777756</td>\n",
       "      <td>0.090675</td>\n",
       "      <td>0.572383</td>\n",
       "      <td>0.218393</td>\n",
       "      <td>1.659208</td>\n",
       "    </tr>\n",
       "    <tr>\n",
       "      <th>68</th>\n",
       "      <td>0.006061</td>\n",
       "      <td>0.78050</td>\n",
       "      <td>0.960109</td>\n",
       "      <td>0.089936</td>\n",
       "      <td>0.588595</td>\n",
       "      <td>0.234795</td>\n",
       "      <td>1.873435</td>\n",
       "    </tr>\n",
       "    <tr>\n",
       "      <th>69</th>\n",
       "      <td>0.006061</td>\n",
       "      <td>0.78875</td>\n",
       "      <td>0.983521</td>\n",
       "      <td>0.086561</td>\n",
       "      <td>0.558842</td>\n",
       "      <td>0.223321</td>\n",
       "      <td>1.852245</td>\n",
       "    </tr>\n",
       "    <tr>\n",
       "      <th>70</th>\n",
       "      <td>0.005455</td>\n",
       "      <td>0.79550</td>\n",
       "      <td>0.760928</td>\n",
       "      <td>0.082284</td>\n",
       "      <td>0.545516</td>\n",
       "      <td>0.222400</td>\n",
       "      <td>1.611128</td>\n",
       "    </tr>\n",
       "    <tr>\n",
       "      <th>71</th>\n",
       "      <td>0.005455</td>\n",
       "      <td>0.79550</td>\n",
       "      <td>0.820706</td>\n",
       "      <td>0.087508</td>\n",
       "      <td>0.550257</td>\n",
       "      <td>0.224961</td>\n",
       "      <td>1.683432</td>\n",
       "    </tr>\n",
       "  </tbody>\n",
       "</table>\n",
       "<p>72 rows × 7 columns</p>\n",
       "</div>"
      ],
      "text/plain": [
       "    Test_Accuracy   Training_Accuracy  RPN classifier  RPN regression  \\\n",
       "0        0.000000             0.53150        1.758115        0.120984   \n",
       "1        0.000000             0.52900        1.492781        0.114672   \n",
       "2        0.000000             0.53425        1.632648        0.104796   \n",
       "3        0.000000             0.54650        1.805113        0.110963   \n",
       "4        0.000606             0.53975        1.533741        0.131131   \n",
       "..            ...                 ...             ...             ...   \n",
       "67       0.006061             0.78350        0.777756        0.090675   \n",
       "68       0.006061             0.78050        0.960109        0.089936   \n",
       "69       0.006061             0.78875        0.983521        0.086561   \n",
       "70       0.005455             0.79550        0.760928        0.082284   \n",
       "71       0.005455             0.79550        0.820706        0.087508   \n",
       "\n",
       "    Detector classifier  Detector regression     Total  \n",
       "0              2.190086             0.587861  4.657046  \n",
       "1              1.939409             0.444111  3.990972  \n",
       "2              1.786337             0.400591  3.924373  \n",
       "3              1.698521             0.366394  3.980992  \n",
       "4              1.693615             0.369183  3.727670  \n",
       "..                  ...                  ...       ...  \n",
       "67             0.572383             0.218393  1.659208  \n",
       "68             0.588595             0.234795  1.873435  \n",
       "69             0.558842             0.223321  1.852245  \n",
       "70             0.545516             0.222400  1.611128  \n",
       "71             0.550257             0.224961  1.683432  \n",
       "\n",
       "[72 rows x 7 columns]"
      ]
     },
     "execution_count": 2,
     "metadata": {},
     "output_type": "execute_result"
    }
   ],
   "source": [
    "import matplotlib.pyplot as plt\n",
    "import pandas as pd\n",
    "df = pd.read_csv('out-10-70.csv')\n",
    "df"
   ]
  },
  {
   "cell_type": "code",
   "execution_count": null,
   "metadata": {},
   "outputs": [],
   "source": []
  },
  {
   "cell_type": "code",
   "execution_count": 70,
   "metadata": {},
   "outputs": [
    {
     "data": {
      "text/plain": [
       "[Text(0.5, 0, 'Number of Epochs'), Text(0.5, 0, 'Number of Epochs')]"
      ]
     },
     "execution_count": 70,
     "metadata": {},
     "output_type": "execute_result"
    },
    {
     "data": {
      "image/png": "[encoded data removed]",
      "text/plain": [
       "<Figure size 720x360 with 2 Axes>"
      ]
     },
     "metadata": {
      "needs_background": "light"
     },
     "output_type": "display_data"
    }
   ],
   "source": [
    "fig, axs = plt.subplots(1, 2, figsize=(10, 5))\n",
    "x = range(len(df))\n",
    "y0 = df.Test_Accuracy\n",
    "y1 = df[' Training_Accuracy']\n",
    "y2 = Total_loss\n",
    "\n",
    "axs[0].plot(x, y1)\n",
    "axs[0].plot([0, len(Accuracy)], [max(Accuracy), max(Accuracy)], 'k-.', lw= 1.5)\n",
    "axs[0].set_title(\"Accuracy\")\n",
    "axs[0].annotate(str(max(Accuracy)),\n",
    "                xy=(len(Accuracy)*0.8, max(Accuracy)+0.003))\n",
    "\n",
    "\n",
    "axs[1].plot(x, y2, color='red', linewidth=1.0, linestyle='--')\n",
    "axs[1].plot([0, len(Total_loss)], [min(Total_loss), min(Total_loss)], 'k-.', lw= 1.5)\n",
    "axs[1].set_title(\"Total_loss\")\n",
    "axs[1].annotate(str(min(Total_loss)),\n",
    "                xy=(len(Total_loss)*0.9, min(Total_loss)-0.15))\n",
    "\n",
    "\n",
    "plt.setp(axs[0], xlabel='Acurracy')\n",
    "plt.setp(axs[1], xlabel='Total Loss')\n",
    "plt.setp(axs[0:3], xlabel='Number of Epochs')"
   ]
  },
  {
   "cell_type": "code",
   "execution_count": 77,
   "metadata": {},
   "outputs": [],
   "source": [
    "lines = []\n",
    "with open(\"out-10-70.csv\",\"r\") as f:\n",
    "    for line in f:\n",
    "        lines.append(line.split(\"\\t\"))  "
   ]
  },
  {
   "cell_type": "code",
   "execution_count": 80,
   "metadata": {},
   "outputs": [
    {
     "data": {
      "text/plain": [
       "['Test_Accuracy, Training_Accuracy,RPN classifier,RPN regression,Detector classifier,Detector regression,Total\\n']"
      ]
     },
     "execution_count": 80,
     "metadata": {},
     "output_type": "execute_result"
    }
   ],
   "source": [
    "colnames = lines[0]"
   ]
  },
  {
   "cell_type": "code",
   "execution_count": 82,
   "metadata": {},
   "outputs": [
    {
     "data": {
      "text/plain": [
       "['Test_Accuracy, Training_Accuracy,RPN classifier,RPN regression,Detector classifier,Detector regression,Total\\n']"
      ]
     },
     "execution_count": 82,
     "metadata": {},
     "output_type": "execute_result"
    }
   ],
   "source": [
    "lines.pop(0)"
   ]
  },
  {
   "cell_type": "code",
   "execution_count": 89,
   "metadata": {},
   "outputs": [],
   "source": [
    "lines = [line[0].split(\",\") for line in lines]"
   ]
  },
  {
   "cell_type": "code",
   "execution_count": 91,
   "metadata": {},
   "outputs": [],
   "source": [
    "lines = [[float(s.replace('/n', '')) for s in line]\n",
    "               for line in lines]"
   ]
  },
  {
   "cell_type": "code",
   "execution_count": 92,
   "metadata": {},
   "outputs": [
    {
     "data": {
      "text/plain": [
       "[0.0,\n",
       " 0.5315,\n",
       " 1.7581146984095022,\n",
       " 0.12098409426398575,\n",
       " 2.1900864818021657,\n",
       " 0.5878610546626151,\n",
       " 4.657046329138269]"
      ]
     },
     "execution_count": 92,
     "metadata": {},
     "output_type": "execute_result"
    }
   ],
   "source": [
    "Test_Accuracy = [i[0]*135 for i in lines]\n",
    "Training_loss = [round(float(i[5]),2) for i in line2]"
   ]
  }
 ],
 "metadata": {
  "kernelspec": {
   "display_name": "deeplearning",
   "language": "python",
   "name": "deeplearning"
  },
  "language_info": {
   "codemirror_mode": {
    "name": "ipython",
    "version": 3
   },
   "file_extension": ".py",
   "mimetype": "text/x-python",
   "name": "python",
   "nbconvert_exporter": "python",
   "pygments_lexer": "ipython3",
   "version": "3.7.7"
  }
 },
 "nbformat": 4,
 "nbformat_minor": 4
}
