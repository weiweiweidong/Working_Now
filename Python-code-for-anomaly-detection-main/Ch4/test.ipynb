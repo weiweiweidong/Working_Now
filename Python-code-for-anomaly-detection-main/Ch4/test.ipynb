{
 "cells": [
  {
   "cell_type": "code",
   "execution_count": 9,
   "metadata": {},
   "outputs": [],
   "source": [
    "import numpy as np\n",
    "import matplotlib.pyplot as plt\n",
    "from sklearn.neighbors import NearestNeighbors"
   ]
  },
  {
   "cell_type": "code",
   "execution_count": 10,
   "metadata": {},
   "outputs": [],
   "source": [
    "def embed(lst, dim):\n",
    "    emb = np.empty((0, dim), float)\n",
    "    for i in range(lst.size - dim + 1):\n",
    "        tmp = np.array(lst[i : i + dim])[::-1].reshape((1, -1))\n",
    "        emb = np.append(emb, tmp, axis=0)\n",
    "    return emb"
   ]
  },
  {
   "cell_type": "code",
   "execution_count": 11,
   "metadata": {},
   "outputs": [
    {
     "name": "stdout",
     "output_type": "stream",
     "text": [
      "[[3. 2. 1.]\n",
      " [4. 3. 2.]\n",
      " [5. 4. 3.]\n",
      " [6. 5. 4.]\n",
      " [7. 6. 5.]\n",
      " [8. 7. 6.]\n",
      " [9. 8. 7.]]\n"
     ]
    }
   ],
   "source": [
    "lst = np.array([1, 2, 3, 4, 5, 6, 7, 8, 9])\n",
    "dim = 3\n",
    "train = embed(lst, dim)\n",
    "\n",
    "print(train)"
   ]
  },
  {
   "cell_type": "code",
   "execution_count": 12,
   "metadata": {},
   "outputs": [
    {
     "name": "stdout",
     "output_type": "stream",
     "text": [
      "[[2.82842712]\n",
      " [2.82842712]\n",
      " [2.82842712]\n",
      " [2.82842712]\n",
      " [2.82842712]\n",
      " [2.82842712]\n",
      " [2.82842712]]\n",
      "[[6]\n",
      " [5]\n",
      " [4]\n",
      " [3]\n",
      " [2]\n",
      " [1]\n",
      " [0]]\n"
     ]
    }
   ],
   "source": [
    "test = np.array([9,8,7,6,5,4,3,2,1])\n",
    "test = embed(test, dim)\n",
    "\n",
    "neigh = NearestNeighbors(\n",
    "        n_neighbors=1\n",
    "    )\n",
    "neigh.fit(train)\n",
    "d, ind = neigh.kneighbors(test)\n",
    "\n",
    "print(d)\n",
    "print(ind)"
   ]
  },
  {
   "cell_type": "code",
   "execution_count": null,
   "metadata": {},
   "outputs": [],
   "source": [
    "import pandas as pd\n",
    "import numpy as np\n",
    "import statsmodels.api as sm\n",
    "import matplotlib.pyplot as plt\n",
    "\n",
    "# 创建示例时间序列数据\n",
    "np.random.seed(123)\n",
    "data = np.cumsum(np.random.randn(100))  # 生成随机时间序列数据\n",
    "\n",
    "# 拆分数据集\n",
    "train_data = data[:80]  # 前80个数据点作为训练集\n",
    "test_data = data[80:]   # 后20个数据点作为测试集\n",
    "\n",
    "# 构建并训练ARMA模型\n",
    "arma_model = sm.tsa.ARMA(train_data, (3, 0)).fit()\n",
    "\n",
    "# 样本内预测\n",
    "in_sample_pred = arma_model.predict(start=1, end=79, typ='levels')\n",
    "\n",
    "# 样本外预测\n",
    "out_of_sample_pred = arma_model.predict(start=80, end=99, typ='levels')\n",
    "\n",
    "# 绘制结果\n",
    "plt.figure(figsize=(10, 6))\n",
    "plt.plot(data, label='Original Data')\n",
    "plt.plot(np.arange(1, 80), in_sample_pred, label='In-Sample Prediction')\n",
    "plt.plot(np.arange(80, 100), out_of_sample_pred, label='Out-Of-Sample Prediction')\n",
    "plt.legend()\n",
    "plt.show()\n"
   ]
  }
 ],
 "metadata": {
  "kernelspec": {
   "display_name": "tf_1_8_py3_6",
   "language": "python",
   "name": "python3"
  },
  "language_info": {
   "codemirror_mode": {
    "name": "ipython",
    "version": 3
   },
   "file_extension": ".py",
   "mimetype": "text/x-python",
   "name": "python",
   "nbconvert_exporter": "python",
   "pygments_lexer": "ipython3",
   "version": "3.6.13"
  }
 },
 "nbformat": 4,
 "nbformat_minor": 2
}
