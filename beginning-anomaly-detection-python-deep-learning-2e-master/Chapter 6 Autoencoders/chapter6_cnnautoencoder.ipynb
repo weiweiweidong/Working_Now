{
 "cells": [
  {
   "cell_type": "code",
   "execution_count": 2,
   "id": "f4cb7882-16b4-44b7-92c8-75c0caf6f291",
   "metadata": {},
   "outputs": [
    {
     "name": "stdout",
     "output_type": "stream",
     "text": [
      "Python:  3.8.12 (default, Oct 12 2021, 03:01:40) [MSC v.1916 64 bit (AMD64)]\n",
      "pandas:  2.0.0\n",
      "numpy:  1.22.2\n",
      "seaborn:  0.11.2\n",
      "matplotlib:  3.7.1\n",
      "sklearn:  1.2.2\n",
      "Tensorflow:  2.7.0\n"
     ]
    }
   ],
   "source": [
    "import tensorflow.keras as keras\n",
    "from tensorflow.keras import optimizers\n",
    "from tensorflow.keras import losses\n",
    "from tensorflow.keras.models import Sequential, Model\n",
    "from tensorflow.keras.layers import Dense, Input, Dropout, Embedding, LSTM\n",
    "from tensorflow.keras.optimizers import RMSprop, Adam, Nadam\n",
    "from tensorflow.keras.preprocessing import sequence\n",
    "from tensorflow.keras.callbacks import TensorBoard\n",
    "from tensorflow.keras import regularizers\n",
    "\n",
    "import sklearn\n",
    "from sklearn.preprocessing import StandardScaler\n",
    "from sklearn.model_selection import train_test_split\n",
    "from sklearn.metrics import confusion_matrix, roc_auc_score\n",
    "from sklearn.preprocessing import MinMaxScaler\n",
    "\n",
    "import seaborn as sns\n",
    "import pandas as pd\n",
    "import numpy as np\n",
    "import matplotlib\n",
    "\n",
    "import matplotlib.pyplot as plt\n",
    "import matplotlib.gridspec as gridspec\n",
    "%matplotlib inline\n",
    "\n",
    "import tensorflow \n",
    "import sys\n",
    "print(\"Python: \", sys.version)\n",
    "\n",
    "print(\"pandas: \", pd.__version__)\n",
    "print(\"numpy: \", np.__version__)\n",
    "print(\"seaborn: \", sns.__version__)\n",
    "print(\"matplotlib: \", matplotlib.__version__)\n",
    "print(\"sklearn: \", sklearn.__version__)\n",
    "print(\"Tensorflow: \", tensorflow.__version__)\n",
    "\n"
   ]
  },
  {
   "cell_type": "code",
   "execution_count": null,
   "id": "7e7029c0-fb64-4e2a-9520-2c612c5d3068",
   "metadata": {},
   "outputs": [],
   "source": [
    "from keras.datasets import mnist\n",
    "import numpy as np\n",
    "(x_train, _), (x_test, _) = mnist.load_data()"
   ]
  },
  {
   "cell_type": "code",
   "execution_count": 4,
   "id": "3ff0d591-87dc-47f3-877d-3efb3feeff5d",
   "metadata": {},
   "outputs": [],
   "source": [
    "from keras.datasets import mnist\n",
    "import numpy as np\n",
    "\n",
    "(x_train, _), (x_test, y_test) = mnist.load_data()\n",
    "\n",
    "x_train = x_train.astype('float32') / 255.\n",
    "x_test = x_test.astype('float32') / 255.\n",
    "x_train = np.reshape(x_train, (len(x_train), 28, 28, 1))  # adapt this if using `channels_first` image data format\n",
    "x_test = np.reshape(x_test, (len(x_test), 28, 28, 1))  # adapt this if using `channels_first` image data format\n",
    "\n"
   ]
  },
  {
   "cell_type": "code",
   "execution_count": 5,
   "id": "99415eea-4c9d-4467-a307-88db45831901",
   "metadata": {},
   "outputs": [
    {
     "name": "stdout",
     "output_type": "stream",
     "text": [
      "Model: \"model\"\n",
      "_________________________________________________________________\n",
      " Layer (type)                Output Shape              Param #   \n",
      "=================================================================\n",
      " input_1 (InputLayer)        [(None, 28, 28, 1)]       0         \n",
      "                                                                 \n",
      " conv2d (Conv2D)             (None, 28, 28, 16)        160       \n",
      "                                                                 \n",
      " max_pooling2d (MaxPooling2D  (None, 14, 14, 16)       0         \n",
      " )                                                               \n",
      "                                                                 \n",
      " conv2d_1 (Conv2D)           (None, 14, 14, 8)         1160      \n",
      "                                                                 \n",
      " max_pooling2d_1 (MaxPooling  (None, 7, 7, 8)          0         \n",
      " 2D)                                                             \n",
      "                                                                 \n",
      " conv2d_2 (Conv2D)           (None, 7, 7, 8)           584       \n",
      "                                                                 \n",
      " max_pooling2d_2 (MaxPooling  (None, 4, 4, 8)          0         \n",
      " 2D)                                                             \n",
      "                                                                 \n",
      " conv2d_3 (Conv2D)           (None, 4, 4, 8)           584       \n",
      "                                                                 \n",
      " up_sampling2d (UpSampling2D  (None, 8, 8, 8)          0         \n",
      " )                                                               \n",
      "                                                                 \n",
      " conv2d_4 (Conv2D)           (None, 8, 8, 8)           584       \n",
      "                                                                 \n",
      " up_sampling2d_1 (UpSampling  (None, 16, 16, 8)        0         \n",
      " 2D)                                                             \n",
      "                                                                 \n",
      " conv2d_5 (Conv2D)           (None, 14, 14, 16)        1168      \n",
      "                                                                 \n",
      " up_sampling2d_2 (UpSampling  (None, 28, 28, 16)       0         \n",
      " 2D)                                                             \n",
      "                                                                 \n",
      " conv2d_6 (Conv2D)           (None, 28, 28, 1)         145       \n",
      "                                                                 \n",
      "=================================================================\n",
      "Total params: 4,385\n",
      "Trainable params: 4,385\n",
      "Non-trainable params: 0\n",
      "_________________________________________________________________\n"
     ]
    }
   ],
   "source": [
    "\n",
    "\n",
    "from keras.layers import Input, Dense, Conv2D, MaxPooling2D, UpSampling2D\n",
    "from keras.models import Model\n",
    "from keras import backend as K\n",
    "\n",
    "#cnn autoencoder\n",
    "logfilename = \"cnnautoencoder2\"\n",
    "\n",
    "input_img = Input(shape=(28, 28, 1))  # adapt this if using `channels_first` image data format\n",
    "\n",
    "x = Conv2D(16, (3, 3), activation='relu', padding='same')(input_img)\n",
    "x = MaxPooling2D((2, 2), padding='same')(x)\n",
    "x = Conv2D(8, (3, 3), activation='relu', padding='same')(x)\n",
    "x = MaxPooling2D((2, 2), padding='same')(x)\n",
    "x = Conv2D(8, (3, 3), activation='relu', padding='same')(x)\n",
    "encoded = MaxPooling2D((2, 2), padding='same')(x)\n",
    "\n",
    "# at this point the representation is (4, 4, 8) i.e. 128-dimensional\n",
    "x = Conv2D(8, (3, 3), activation='relu', padding='same')(encoded)\n",
    "x = UpSampling2D((2, 2))(x)\n",
    "x = Conv2D(8, (3, 3), activation='relu', padding='same')(x)\n",
    "x = UpSampling2D((2, 2))(x)\n",
    "x = Conv2D(16, (3, 3), activation='relu')(x)\n",
    "x = UpSampling2D((2, 2))(x)\n",
    "decoded = Conv2D(1, (3, 3), activation='sigmoid', padding='same')(x)\n",
    "\n",
    "autoencoder = Model(input_img, decoded)\n",
    "\n",
    "autoencoder.summary()\n",
    "\n"
   ]
  },
  {
   "cell_type": "code",
   "execution_count": 6,
   "id": "bfb04a7c-1331-41b0-bddd-a39219a1071b",
   "metadata": {},
   "outputs": [],
   "source": [
    "autoencoder.compile(optimizer=RMSprop(), \n",
    "                    loss='mean_squared_error',\n",
    "                    metrics=['mae', 'accuracy'])"
   ]
  },
  {
   "cell_type": "code",
   "execution_count": 7,
   "id": "eef37914-302c-48b8-b463-c06670e1cbe0",
   "metadata": {},
   "outputs": [
    {
     "name": "stdout",
     "output_type": "stream",
     "text": [
      "Epoch 1/20\n",
      "1875/1875 [==============================] - 30s 10ms/step - loss: 0.0367 - mae: 0.0873 - accuracy: 0.7978 - val_loss: 0.0253 - val_mae: 0.0628 - val_accuracy: 0.8069\n",
      "Epoch 2/20\n",
      "1875/1875 [==============================] - 16s 9ms/step - loss: 0.0219 - mae: 0.0579 - accuracy: 0.8071 - val_loss: 0.0208 - val_mae: 0.0540 - val_accuracy: 0.8107\n",
      "Epoch 3/20\n",
      "1875/1875 [==============================] - 16s 8ms/step - loss: 0.0183 - mae: 0.0507 - accuracy: 0.8096 - val_loss: 0.0164 - val_mae: 0.0473 - val_accuracy: 0.8080\n",
      "Epoch 4/20\n",
      "1875/1875 [==============================] - 16s 8ms/step - loss: 0.0166 - mae: 0.0473 - accuracy: 0.8105 - val_loss: 0.0157 - val_mae: 0.0454 - val_accuracy: 0.8115\n",
      "Epoch 5/20\n",
      "1875/1875 [==============================] - 16s 8ms/step - loss: 0.0155 - mae: 0.0452 - accuracy: 0.8111 - val_loss: 0.0154 - val_mae: 0.0449 - val_accuracy: 0.8084\n",
      "Epoch 6/20\n",
      "1875/1875 [==============================] - 15s 8ms/step - loss: 0.0148 - mae: 0.0438 - accuracy: 0.8114 - val_loss: 0.0140 - val_mae: 0.0424 - val_accuracy: 0.8117\n",
      "Epoch 7/20\n",
      "1875/1875 [==============================] - 15s 8ms/step - loss: 0.0143 - mae: 0.0427 - accuracy: 0.8117 - val_loss: 0.0132 - val_mae: 0.0408 - val_accuracy: 0.8104\n",
      "Epoch 8/20\n",
      "1875/1875 [==============================] - 16s 9ms/step - loss: 0.0138 - mae: 0.0418 - accuracy: 0.8119 - val_loss: 0.0142 - val_mae: 0.0414 - val_accuracy: 0.8090\n",
      "Epoch 9/20\n",
      "1875/1875 [==============================] - 16s 8ms/step - loss: 0.0135 - mae: 0.0411 - accuracy: 0.8121 - val_loss: 0.0123 - val_mae: 0.0392 - val_accuracy: 0.8121\n",
      "Epoch 10/20\n",
      "1875/1875 [==============================] - 16s 8ms/step - loss: 0.0132 - mae: 0.0405 - accuracy: 0.8123 - val_loss: 0.0126 - val_mae: 0.0395 - val_accuracy: 0.8106\n",
      "Epoch 11/20\n",
      "1875/1875 [==============================] - 16s 8ms/step - loss: 0.0129 - mae: 0.0399 - accuracy: 0.8124 - val_loss: 0.0123 - val_mae: 0.0386 - val_accuracy: 0.8122\n",
      "Epoch 12/20\n",
      "1875/1875 [==============================] - 16s 8ms/step - loss: 0.0127 - mae: 0.0394 - accuracy: 0.8125 - val_loss: 0.0130 - val_mae: 0.0396 - val_accuracy: 0.8126\n",
      "Epoch 13/20\n",
      "1875/1875 [==============================] - 16s 8ms/step - loss: 0.0124 - mae: 0.0390 - accuracy: 0.8126 - val_loss: 0.0132 - val_mae: 0.0404 - val_accuracy: 0.8100\n",
      "Epoch 14/20\n",
      "1875/1875 [==============================] - 16s 9ms/step - loss: 0.0123 - mae: 0.0386 - accuracy: 0.8127 - val_loss: 0.0112 - val_mae: 0.0366 - val_accuracy: 0.8116\n",
      "Epoch 15/20\n",
      "1875/1875 [==============================] - 16s 9ms/step - loss: 0.0121 - mae: 0.0382 - accuracy: 0.8128 - val_loss: 0.0112 - val_mae: 0.0362 - val_accuracy: 0.8116\n",
      "Epoch 16/20\n",
      "1875/1875 [==============================] - 16s 8ms/step - loss: 0.0119 - mae: 0.0378 - accuracy: 0.8129 - val_loss: 0.0115 - val_mae: 0.0364 - val_accuracy: 0.8113\n",
      "Epoch 17/20\n",
      "1875/1875 [==============================] - 16s 8ms/step - loss: 0.0117 - mae: 0.0375 - accuracy: 0.8129 - val_loss: 0.0115 - val_mae: 0.0374 - val_accuracy: 0.8112\n",
      "Epoch 18/20\n",
      "1875/1875 [==============================] - 16s 8ms/step - loss: 0.0116 - mae: 0.0372 - accuracy: 0.8130 - val_loss: 0.0129 - val_mae: 0.0388 - val_accuracy: 0.8128\n",
      "Epoch 19/20\n",
      "1875/1875 [==============================] - 16s 9ms/step - loss: 0.0115 - mae: 0.0369 - accuracy: 0.8131 - val_loss: 0.0107 - val_mae: 0.0354 - val_accuracy: 0.8126\n",
      "Epoch 20/20\n",
      "1875/1875 [==============================] - 16s 8ms/step - loss: 0.0113 - mae: 0.0367 - accuracy: 0.8131 - val_loss: 0.0110 - val_mae: 0.0353 - val_accuracy: 0.8126\n"
     ]
    }
   ],
   "source": [
    "batch_size = 32\n",
    "epochs = 20\n",
    "\n",
    "history = autoencoder.fit(x_train, x_train,\n",
    "                    batch_size=batch_size,\n",
    "                    epochs=epochs,\n",
    "                    verbose=1,\n",
    "                    shuffle=True,\n",
    "                    validation_data=(x_test, x_test),\n",
    "                    callbacks=[TensorBoard(log_dir='./logs/{0}'.format(logfilename))])"
   ]
  },
  {
   "cell_type": "code",
   "execution_count": 11,
   "id": "6366a974-7a47-49eb-b019-b6938439fffb",
   "metadata": {},
   "outputs": [
    {
     "name": "stdout",
     "output_type": "stream",
     "text": [
      "313/313 [==============================] - 2s 5ms/step - loss: 0.0110 - mae: 0.0353 - accuracy: 0.8126\n",
      "Test loss: 0.011009062640368938\n",
      "Test accuracy: 0.035254064947366714\n"
     ]
    }
   ],
   "source": [
    "score = autoencoder.evaluate(x_test, x_test, verbose=1)\n",
    "print('Test loss:', score[0])\n",
    "print('Test accuracy:', score[1])"
   ]
  },
  {
   "cell_type": "code",
   "execution_count": 9,
   "id": "02717457-b4a6-4b7c-be98-665399d9190f",
   "metadata": {},
   "outputs": [
    {
     "data": {
      "image/png": "[encoded data removed]",
      "text/plain": [
       "<Figure size 1440x288 with 18 Axes>"
      ]
     },
     "metadata": {
      "needs_background": "light"
     },
     "output_type": "display_data"
    }
   ],
   "source": [
    "\n",
    "\n",
    "decoded_imgs = autoencoder.predict(x_test)\n",
    "\n",
    "n = 10\n",
    "plt.figure(figsize=(20, 4))\n",
    "for i in range(1, n):\n",
    "    # display original\n",
    "    ax = plt.subplot(2, n, i)\n",
    "    plt.imshow(x_test[i].reshape(28, 28))\n",
    "    plt.gray()\n",
    "    ax.get_xaxis().set_visible(False)\n",
    "    ax.get_yaxis().set_visible(False)\n",
    "\n",
    "    # display reconstruction\n",
    "    ax = plt.subplot(2, n, i + n)\n",
    "    plt.imshow(decoded_imgs[i].reshape(28, 28))\n",
    "    plt.gray()\n",
    "    ax.get_xaxis().set_visible(False)\n",
    "    ax.get_yaxis().set_visible(False)\n",
    "plt.show()\n",
    "\n"
   ]
  },
  {
   "cell_type": "code",
   "execution_count": 10,
   "id": "fbbac0a4-6964-468f-bf77-611366770d93",
   "metadata": {},
   "outputs": [
    {
     "data": {
      "image/png": "[encoded data removed]",
      "text/plain": [
       "<Figure size 1440x576 with 9 Axes>"
      ]
     },
     "metadata": {
      "needs_background": "light"
     },
     "output_type": "display_data"
    }
   ],
   "source": [
    "\n",
    "\n",
    "encoder = Model(input_img, encoded)\n",
    "encoded_imgs = encoder.predict(x_test)\n",
    "n = 10\n",
    "plt.figure(figsize=(20, 8))\n",
    "for i in range(1, n):\n",
    "    ax = plt.subplot(1, n, i)\n",
    "    plt.imshow(encoded_imgs[i].reshape(4, 4 * 8).T)\n",
    "    plt.gray()\n",
    "    ax.get_xaxis().set_visible(False)\n",
    "    ax.get_yaxis().set_visible(False)\n",
    "plt.show()\n",
    "\n"
   ]
  },
  {
   "cell_type": "code",
   "execution_count": null,
   "id": "95c081f0-a223-4327-bbec-da1e177d515d",
   "metadata": {},
   "outputs": [],
   "source": []
  }
 ],
 "metadata": {
  "kernelspec": {
   "display_name": "Python 3 (ipykernel)",
   "language": "python",
   "name": "python3"
  },
  "language_info": {
   "codemirror_mode": {
    "name": "ipython",
    "version": 3
   },
   "file_extension": ".py",
   "mimetype": "text/x-python",
   "name": "python",
   "nbconvert_exporter": "python",
   "pygments_lexer": "ipython3",
   "version": "3.8.12"
  }
 },
 "nbformat": 4,
 "nbformat_minor": 5
}
