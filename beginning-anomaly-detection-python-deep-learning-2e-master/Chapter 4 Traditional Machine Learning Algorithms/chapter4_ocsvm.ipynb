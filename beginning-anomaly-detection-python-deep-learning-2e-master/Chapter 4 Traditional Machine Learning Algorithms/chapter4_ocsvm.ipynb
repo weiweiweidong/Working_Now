{
 "cells": [
  {
   "cell_type": "code",
   "execution_count": 1,
   "id": "fb732584-22f8-4aed-b092-f4ba352f4f26",
   "metadata": {},
   "outputs": [],
   "source": [
    " import numpy as np\n",
    "import pandas as pd\n",
    "import matplotlib.pyplot as plt\n",
    "from sklearn.model_selection import train_test_split\n",
    "from sklearn.preprocessing import LabelEncoder, StandardScaler\n",
    "from sklearn.svm import OneClassSVM\n",
    "from sklearn.metrics import precision_score, recall_score, f1_score, confusion_matrix, ConfusionMatrixDisplay\n",
    "\n",
    "\n",
    "%matplotlib inline\t\n"
   ]
  },
  {
   "cell_type": "markdown",
   "id": "36e4b318-0d3a-43dc-9803-6a26f5a8b9bc",
   "metadata": {},
   "source": [
    "### Data Preparation\n",
    "\n",
    "First, we must load the data and then transform it into a usable condition to pass into the One-Class Support Vector Machine (OC-SVM) algorithm.\n",
    "\n",
    "We define a list of columns that correspond with the data. Unlike some other data files, the data does not contain columns so we must define them ourselves to tell pandas what the column labels should be. Otherwise, they'll be numbered by numerical index, making it harder to interpret the data."
   ]
  },
  {
   "cell_type": "code",
   "execution_count": 2,
   "id": "ee49ef06-6daf-4dc3-8b86-d7c8ceb99484",
   "metadata": {},
   "outputs": [],
   "source": [
    "columns = [\"duration\", \"protocol_type\", \"service\", \"flag\", \"src_bytes\", \"dst_bytes\", \"land\", \"wrong_fragment\", \"urgent\",\n",
    "        \"hot\", \"num_failed_logins\", \"logged_in\", \"num_compromised\", \"root_shell\", \"su_attempted\", \"num_root\", \n",
    "        \"num_file_creations\", \"num_shells\", \"num_access_files\", \"num_outbound_cmds\", \"is_host_login\",\n",
    "        \"is_guest_login\", \"count\", \"srv_count\", \"serror_rate\", \"srv_serror_rate\", \"rerror_rate\", \"srv_rerror_rate\",\n",
    "        \"same_srv_rate\", \"diff_srv_rate\", \"srv_diff_host_rate\", \"dst_host_count\", \"dst_host_srv_count\", \n",
    "        \"dst_host_same_srv_rate\", \"dst_host_diff_srv_rate\", \"dst_host_same_src_port_rate\", \"dst_host_srv_diff_host_rate\",\n",
    "        \"dst_host_serror_rate\", \"dst_host_srv_serror_rate\", \"dst_host_rerror_rate\", \"dst_host_srv_rerror_rate\", \"label\"]\n",
    "\n",
    "df = pd.read_csv(\"data/kddcup.data.corrected\", sep=\",\", names=columns, index_col=None)\n"
   ]
  },
  {
   "cell_type": "markdown",
   "id": "865e7755-a3dd-4c58-abec-2a8bfb6d47de",
   "metadata": {},
   "source": [
    "This is a very large dataset. Let's only concern ourselves with http attacks"
   ]
  },
  {
   "cell_type": "code",
   "execution_count": 3,
   "id": "45be6330-df26-41b8-8198-3eaea40f5a03",
   "metadata": {},
   "outputs": [],
   "source": [
    "# Filter to only 'http' attacks\n",
    "df = df[df[\"service\"] == \"http\"]\n",
    "df = df.drop(\"service\", axis=1)\n"
   ]
  },
  {
   "cell_type": "markdown",
   "id": "2264891e-4b0b-4f8f-a20b-bb2da7bdb54d",
   "metadata": {},
   "source": [
    "There are many types of anomalous attacks. To make things simple, we will only detect whether a data point is normal or if it is an anomaly"
   ]
  },
  {
   "cell_type": "code",
   "execution_count": 4,
   "id": "164b495f-acbe-480d-8646-4ca97eba83aa",
   "metadata": {},
   "outputs": [
    {
     "data": {
      "text/plain": [
       "label\n",
       "0    619046\n",
       "1      4045\n",
       "Name: count, dtype: int64"
      ]
     },
     "execution_count": 4,
     "metadata": {},
     "output_type": "execute_result"
    }
   ],
   "source": [
    "# Label of 'normal.' becomes 0, and anything else becomes 1 and is treated as an anomaly.\n",
    "df['label'] = df['label'].apply(lambda x: 0 if x=='normal.' else 1)\n",
    "df['label'].value_counts()"
   ]
  },
  {
   "cell_type": "markdown",
   "id": "f23f73c5-3105-43d6-9af8-d6eca3b31873",
   "metadata": {},
   "source": [
    "The next step we should perform is to encode the categorical columns. However, there are many columns to search over, so let's automate this. The following cell will create a dictionary of column names to their corresponding data type. From that data type dictionary, we can iterate and find only the columns that are strings, which carry a datatype of \"object\" in pandas.\n",
    "\n",
    "Additionally, we will be applying **standard scaling** to all the numeric columns. When all the variables are on a similar scale, the one-class support vector machine can arrive at a solution much more easily. This is a crucial step for support vector machine models."
   ]
  },
  {
   "cell_type": "code",
   "execution_count": 5,
   "id": "24e17205-35a4-428d-a944-5e9bef6dce0f",
   "metadata": {},
   "outputs": [],
   "source": [
    "datatypes = dict(zip(df.dtypes.index, df.dtypes))\n",
    "encoder_map = {}\n",
    "for col, datatype in datatypes.items():\n",
    "    if datatype == 'object':\n",
    "        encoder = LabelEncoder()\n",
    "        df[col] = encoder.fit_transform(df[col])\n",
    "        encoder_map[col] = encoder \n",
    "    else:\n",
    "        if col == 'label':\n",
    "            continue \n",
    "        scaler = StandardScaler()\n",
    "        df[col] = scaler.fit_transform(df[col].values.reshape(-1, 1))\n",
    "        encoder_map[col] = scaler \n"
   ]
  },
  {
   "cell_type": "code",
   "execution_count": 6,
   "id": "75e99c8b-dac7-4c4d-bda4-95de779749bb",
   "metadata": {},
   "outputs": [],
   "source": [
    "# Check the variables with highest correlation with 'label'\n",
    "df2 = df.copy()\n",
    "label_corr = df2.corr()['label']"
   ]
  },
  {
   "cell_type": "markdown",
   "id": "96e67595-7772-424e-8726-300d733a5bd2",
   "metadata": {},
   "source": [
    "Now that we have filtered out only the columns with a stronger correlation with label, let's split our data into train-test-val splits."
   ]
  },
  {
   "cell_type": "code",
   "execution_count": 7,
   "id": "9fe80609-baa7-47cc-978a-57cc469c96e7",
   "metadata": {},
   "outputs": [],
   "source": [
    "# Filter out anything that has null entry or is not weakly correlated\n",
    "train_cols = label_corr[(~label_corr.isna()) & (np.abs(label_corr) > 0.2)]\n",
    "train_cols = list(train_cols[:-1].index)\n",
    "labels = df2['label']\n",
    "\n",
    "# Conduct a train-test split    \n",
    "x_train, x_test, y_train, y_test = train_test_split(df2[train_cols].values, labels.values, test_size = 0.15, random_state = 42)\n"
   ]
  },
  {
   "cell_type": "code",
   "execution_count": 8,
   "id": "f1d024f7-2ee2-4a03-9f47-4c8ea50181d1",
   "metadata": {},
   "outputs": [],
   "source": [
    "# Additional split of training dataset to create validation split\n",
    "x_train, x_val, y_train, y_val = train_test_split(x_train, y_train, test_size=0.2, random_state=42)"
   ]
  },
  {
   "cell_type": "code",
   "execution_count": 9,
   "id": "a02423c8-e128-45ef-baea-bbedb9b6cb17",
   "metadata": {},
   "outputs": [
    {
     "name": "stdout",
     "output_type": "stream",
     "text": [
      "Shapes\n",
      "x_train:(423701, 13)\n",
      "y_train:(423701,)\n",
      "\n",
      "x_val:(105926, 13)\n",
      "y_val:(105926,)\n",
      "\n",
      "x_test:(93464, 13)\n",
      "y_test:(93464,)\n"
     ]
    }
   ],
   "source": [
    "print(\"Shapes\")\n",
    "print(f\"x_train:{x_train.shape}\\ny_train:{y_train.shape}\")\n",
    "print(f\"\\nx_val:{x_val.shape}\\ny_val:{y_val.shape}\")\n",
    "print(f\"\\nx_test:{x_test.shape}\\ny_test:{y_test.shape}\")"
   ]
  },
  {
   "cell_type": "markdown",
   "id": "8c60552c-34d3-4fec-9862-13d3c0e3a929",
   "metadata": {},
   "source": [
    "Since the OC-SVM only trains on data belonging to one class (since it is used for novelty / outlier detection), we need to split the dataset into one part comprised only of normal instances (to be used for training), and another part that combines a mixture of normal data and just the anomalies."
   ]
  },
  {
   "cell_type": "code",
   "execution_count": 10,
   "id": "1b8621c7-9f57-42fd-aeb4-70178098d034",
   "metadata": {},
   "outputs": [],
   "source": [
    "# Split a set into 80% only normal data, and 20% normal data + any anomalies in set\n",
    "def split_by_class(x, y):\n",
    "    # Separate into normal, anomaly\n",
    "    x_normal = x[y == 0]\n",
    "    x_anom = x[y==1]\n",
    "    \n",
    "    y_normal = y[y==0]\n",
    "    y_anom = y[y==1]\n",
    "    \n",
    "    # Split normal into 80-20 split, one for pure training and other for eval\n",
    "    x_train_train, x_train_test, y_train_train, y_train_test = train_test_split(x_normal, y_normal, test_size=0.2, random_state=42)\n",
    "    \n",
    "    # Combine the eval set with the anomalies to test outlier detection\n",
    "    x_train_test = np.concatenate((x_train_test, x_anom))\n",
    "    y_train_test = np.concatenate((y_train_test, y_anom))\n",
    "    \n",
    "    # Shuffle the eval set\n",
    "    random_indices = np.random.choice(list(range(len(x_train_test))), size=len(x_train_test), replace=False)\n",
    "    x_train_test = x_train_test[random_indices]\n",
    "    y_train_test = y_train_test[random_indices]\n",
    "    \n",
    "    return x_train_train, x_train_test, y_train_train, y_train_test\n",
    "                        \n",
    "    "
   ]
  },
  {
   "cell_type": "markdown",
   "id": "d9419bc9-0f1d-488e-a0e4-daa99c031840",
   "metadata": {},
   "source": [
    "We will split up our training dataset this way."
   ]
  },
  {
   "cell_type": "code",
   "execution_count": 11,
   "id": "abedf148-a9fa-48d9-b1c2-16fa7fc449c4",
   "metadata": {},
   "outputs": [],
   "source": [
    "### Train on normal data only. The _test splits have normal and anomaly data both\n",
    "x_train_train, x_train_test, y_train_train, y_train_test = split_by_class(x_train, y_train)"
   ]
  },
  {
   "cell_type": "code",
   "execution_count": 12,
   "id": "3842bfa2-02e5-459b-a9ff-a01c8483a68d",
   "metadata": {},
   "outputs": [
    {
     "name": "stdout",
     "output_type": "stream",
     "text": [
      "x_train_train: (336728, 13)\n",
      "y_train_train: (336728,)\n",
      "x_train_test: (86973, 13)\n",
      "y_train_test: (86973,)\n"
     ]
    }
   ],
   "source": [
    "print(f\"x_train_train: {x_train_train.shape}\")\n",
    "print(f\"y_train_train: {y_train_train.shape}\")   \n",
    "print(f\"x_train_test: {x_train_test.shape}\") \n",
    "print(f\"y_train_test: {y_train_test.shape}\") "
   ]
  },
  {
   "cell_type": "markdown",
   "id": "06fdc24f-cbe6-43ab-8c61-7e89b005881b",
   "metadata": {},
   "source": [
    "One issue with the OC-SVM is that the training time scales very poorly with data. And so, for the sake of prototyping, we will be using far fewer samples than usual to find the optimal set of hyperparameters and then scale it back up. "
   ]
  },
  {
   "cell_type": "code",
   "execution_count": 13,
   "id": "92b7a04c-fdc6-46ea-bd2e-b1ad35569f64",
   "metadata": {},
   "outputs": [
    {
     "data": {
      "text/html": [
       "<style>#sk-container-id-1 {color: black;background-color: white;}#sk-container-id-1 pre{padding: 0;}#sk-container-id-1 div.sk-toggleable {background-color: white;}#sk-container-id-1 label.sk-toggleable__label {cursor: pointer;display: block;width: 100%;margin-bottom: 0;padding: 0.3em;box-sizing: border-box;text-align: center;}#sk-container-id-1 label.sk-toggleable__label-arrow:before {content: \"▸\";float: left;margin-right: 0.25em;color: #696969;}#sk-container-id-1 label.sk-toggleable__label-arrow:hover:before {color: black;}#sk-container-id-1 div.sk-estimator:hover label.sk-toggleable__label-arrow:before {color: black;}#sk-container-id-1 div.sk-toggleable__content {max-height: 0;max-width: 0;overflow: hidden;text-align: left;background-color: #f0f8ff;}#sk-container-id-1 div.sk-toggleable__content pre {margin: 0.2em;color: black;border-radius: 0.25em;background-color: #f0f8ff;}#sk-container-id-1 input.sk-toggleable__control:checked~div.sk-toggleable__content {max-height: 200px;max-width: 100%;overflow: auto;}#sk-container-id-1 input.sk-toggleable__control:checked~label.sk-toggleable__label-arrow:before {content: \"▾\";}#sk-container-id-1 div.sk-estimator input.sk-toggleable__control:checked~label.sk-toggleable__label {background-color: #d4ebff;}#sk-container-id-1 div.sk-label input.sk-toggleable__control:checked~label.sk-toggleable__label {background-color: #d4ebff;}#sk-container-id-1 input.sk-hidden--visually {border: 0;clip: rect(1px 1px 1px 1px);clip: rect(1px, 1px, 1px, 1px);height: 1px;margin: -1px;overflow: hidden;padding: 0;position: absolute;width: 1px;}#sk-container-id-1 div.sk-estimator {font-family: monospace;background-color: #f0f8ff;border: 1px dotted black;border-radius: 0.25em;box-sizing: border-box;margin-bottom: 0.5em;}#sk-container-id-1 div.sk-estimator:hover {background-color: #d4ebff;}#sk-container-id-1 div.sk-parallel-item::after {content: \"\";width: 100%;border-bottom: 1px solid gray;flex-grow: 1;}#sk-container-id-1 div.sk-label:hover label.sk-toggleable__label {background-color: #d4ebff;}#sk-container-id-1 div.sk-serial::before {content: \"\";position: absolute;border-left: 1px solid gray;box-sizing: border-box;top: 0;bottom: 0;left: 50%;z-index: 0;}#sk-container-id-1 div.sk-serial {display: flex;flex-direction: column;align-items: center;background-color: white;padding-right: 0.2em;padding-left: 0.2em;position: relative;}#sk-container-id-1 div.sk-item {position: relative;z-index: 1;}#sk-container-id-1 div.sk-parallel {display: flex;align-items: stretch;justify-content: center;background-color: white;position: relative;}#sk-container-id-1 div.sk-item::before, #sk-container-id-1 div.sk-parallel-item::before {content: \"\";position: absolute;border-left: 1px solid gray;box-sizing: border-box;top: 0;bottom: 0;left: 50%;z-index: -1;}#sk-container-id-1 div.sk-parallel-item {display: flex;flex-direction: column;z-index: 1;position: relative;background-color: white;}#sk-container-id-1 div.sk-parallel-item:first-child::after {align-self: flex-end;width: 50%;}#sk-container-id-1 div.sk-parallel-item:last-child::after {align-self: flex-start;width: 50%;}#sk-container-id-1 div.sk-parallel-item:only-child::after {width: 0;}#sk-container-id-1 div.sk-dashed-wrapped {border: 1px dashed gray;margin: 0 0.4em 0.5em 0.4em;box-sizing: border-box;padding-bottom: 0.4em;background-color: white;}#sk-container-id-1 div.sk-label label {font-family: monospace;font-weight: bold;display: inline-block;line-height: 1.2em;}#sk-container-id-1 div.sk-label-container {text-align: center;}#sk-container-id-1 div.sk-container {/* jupyter's `normalize.less` sets `[hidden] { display: none; }` but bootstrap.min.css set `[hidden] { display: none !important; }` so we also need the `!important` here to be able to override the default hidden behavior on the sphinx rendered scikit-learn.org. See: https://github.com/scikit-learn/scikit-learn/issues/21755 */display: inline-block !important;position: relative;}#sk-container-id-1 div.sk-text-repr-fallback {display: none;}</style><div id=\"sk-container-id-1\" class=\"sk-top-container\"><div class=\"sk-text-repr-fallback\"><pre>OneClassSVM(gamma=0.05, nu=0.0065)</pre><b>In a Jupyter environment, please rerun this cell to show the HTML representation or trust the notebook. <br />On GitHub, the HTML representation is unable to render, please try loading this page with nbviewer.org.</b></div><div class=\"sk-container\" hidden><div class=\"sk-item\"><div class=\"sk-estimator sk-toggleable\"><input class=\"sk-toggleable__control sk-hidden--visually\" id=\"sk-estimator-id-1\" type=\"checkbox\" checked><label for=\"sk-estimator-id-1\" class=\"sk-toggleable__label sk-toggleable__label-arrow\">OneClassSVM</label><div class=\"sk-toggleable__content\"><pre>OneClassSVM(gamma=0.05, nu=0.0065)</pre></div></div></div></div></div>"
      ],
      "text/plain": [
       "OneClassSVM(gamma=0.05, nu=0.0065)"
      ]
     },
     "execution_count": 13,
     "metadata": {},
     "output_type": "execute_result"
    }
   ],
   "source": [
    "# nu is a cap on the upper bound of training errors and lower bound of the fraction of support vectors. We will first try to enter the expected amount of anomalies\n",
    "svm = OneClassSVM(nu=0.0065, gamma=0.05)\n",
    "svm.fit(x_train_train[:50000])"
   ]
  },
  {
   "cell_type": "markdown",
   "id": "3f9bc38d-9368-44f9-a6e9-ae89c4a038ac",
   "metadata": {},
   "source": [
    "Predictions returned are either:\n",
    "- 1 -> normal data (inlier)\n",
    "- -1 -> anomaly data (outlier)\n",
    "\n",
    "So, to convert the predictions to be in terms of 0 (normal) or 1 (anomaly), we only need to apply a boolean condition of:\n",
    "\n",
    "preds < 0\n",
    "\n",
    "Since -1, the anomaly, is less than 0, it evaluates to True, which is converted to 1.\n",
    "Likewise, 1, the normal point, is greater than 0, which evaluates to False, which converts to 0.\n"
   ]
  },
  {
   "cell_type": "code",
   "execution_count": 14,
   "id": "a5c106e6-9d50-4895-bdfd-b495b6c0570a",
   "metadata": {},
   "outputs": [
    {
     "data": {
      "text/plain": [
       "array([0, 0, 0, ..., 1, 0, 1])"
      ]
     },
     "execution_count": 14,
     "metadata": {},
     "output_type": "execute_result"
    }
   ],
   "source": [
    "preds = svm.predict(x_train_test)\n",
    "# -1 is < 0, so it flags as 1. 1 is > 0, so flags as 0.\n",
    "preds = (preds < 0).astype(int) \n",
    "preds"
   ]
  },
  {
   "cell_type": "code",
   "execution_count": 15,
   "id": "2e503c20-79b6-438d-99fe-500b99b980ab",
   "metadata": {},
   "outputs": [
    {
     "name": "stdout",
     "output_type": "stream",
     "text": [
      "Precision: 0.8310991957104558\n",
      "Recall: 1.0\n",
      "F1-Measure: 0.9077598828696924\n"
     ]
    }
   ],
   "source": [
    "pre = precision_score(y_train_test, preds )\n",
    "rec = recall_score(y_train_test, preds)\n",
    "f1 = f1_score(y_train_test, preds)\n",
    "\n",
    "print(f\"Precision: {pre}\")\n",
    "print(f\"Recall: {rec}\")\n",
    "print(f\"F1-Measure: {f1}\")\n"
   ]
  },
  {
   "cell_type": "markdown",
   "id": "870f04d2-c3d7-4e19-9a20-9926b2158746",
   "metadata": {},
   "source": [
    "This looks like a really good score just evaluating on a \\_test split derived from the training data. "
   ]
  },
  {
   "cell_type": "code",
   "execution_count": 16,
   "id": "d41cae6b-5487-4840-9e25-4fa0ebf12f8b",
   "metadata": {},
   "outputs": [
    {
     "data": {
      "text/plain": [
       "<sklearn.metrics._plot.confusion_matrix.ConfusionMatrixDisplay at 0x15d8eadc6d0>"
      ]
     },
     "execution_count": 16,
     "metadata": {},
     "output_type": "execute_result"
    },
    {
     "data": {
      "image/png": "[encoded data removed]",
      "text/plain": [
       "<Figure size 432x288 with 2 Axes>"
      ]
     },
     "metadata": {
      "needs_background": "light"
     },
     "output_type": "display_data"
    }
   ],
   "source": [
    "ConfusionMatrixDisplay(confusion_matrix(y_train_test, preds)).plot()"
   ]
  },
  {
   "cell_type": "markdown",
   "id": "b4b5db55-1309-4b71-b6d7-da7e8177b0c3",
   "metadata": {},
   "source": [
    "The confusion matrix looks good overall - there were no anomalies that were false negatives, but there were more than a few false positives. Now let's see how this works on our original test split."
   ]
  },
  {
   "cell_type": "code",
   "execution_count": 17,
   "id": "7571177e-3573-4951-bfa4-83ff50371af2",
   "metadata": {},
   "outputs": [
    {
     "data": {
      "text/plain": [
       "array([0, 0, 0, ..., 0, 0, 0])"
      ]
     },
     "execution_count": 17,
     "metadata": {},
     "output_type": "execute_result"
    }
   ],
   "source": [
    "\n",
    "preds = svm.predict(x_test)\n",
    "preds = (preds < 0).astype(int) # -1 is < 0, so it flags as 1. 1 is > 0, so flags as 0.\n",
    "preds"
   ]
  },
  {
   "cell_type": "code",
   "execution_count": 18,
   "id": "2746db05-f307-4f37-8251-04f38a2fc3a2",
   "metadata": {},
   "outputs": [
    {
     "name": "stdout",
     "output_type": "stream",
     "text": [
      "Precision: 0.4809805579036348\n",
      "Recall: 1.0\n",
      "F1-Measure: 0.6495433789954338\n"
     ]
    }
   ],
   "source": [
    "pre = precision_score(y_test, preds )\n",
    "rec = recall_score(y_test, preds)\n",
    "f1 = f1_score(y_test, preds)\n",
    "\n",
    "print(f\"Precision: {pre}\")\n",
    "print(f\"Recall: {rec}\")\n",
    "print(f\"F1-Measure: {f1}\")\n"
   ]
  },
  {
   "cell_type": "markdown",
   "id": "bc05ad06-eeba-4602-b027-416746a6a6fc",
   "metadata": {},
   "source": [
    "It seems like our model massively overfit to the training data, since the F1-measure is so low compared to earlier. It makes sense that the performance looked good on the x_train_test split because this was derived from the training data, and thus has a similar distribution. The test split was completely different and was never involved in the training process.\n",
    "\n",
    "We now need to look at hyperparameter tuning to see if we can get this model to generalize better.\n",
    "\n",
    "Of interest are the following hyperparameter settings:\n",
    "- **gamma**: A parameter used in the RBF kernel function. It determines the radius of influence that points have on each other, with smaller gamma translating to larger radii. We want the radius of influence to be as large as possible to include all the outliers, but not too large, or else the model ends up learning nothing important. If gamma is too large, then the SVM will try and fit the training data more closely, which might lead to overfitting. This makes gamma an important parameter to tune.\n",
    "\n",
    "- **nu**: This is an upper bound on the fraction of training errors allowed and a lower bound on the fraction of support vectors. It is a more sensitive hyperparameter than gamma and it can influence the output behavior of the model quite a bit, so it is very important to tune this value according to your dataset. You may also need to retune this even if your training data size changes. A very small nu places a stricter requirement on how many training errors are allowed, while a larger nu value allows for more training errors to slip through when training the model.\n"
   ]
  },
  {
   "cell_type": "code",
   "execution_count": 19,
   "id": "d8b5fbe6-d248-4b1a-a711-9164750dd3a0",
   "metadata": {},
   "outputs": [],
   "source": [
    "# Given an svm instance, x, and y data, train and evaluate and return results\n",
    "def experiment(svm, x_train, y_train, x_test, y_test):\n",
    "    \n",
    "    # Fit on the training data, predict on the test\n",
    "    svm.fit(x_train)\n",
    "    \n",
    "    preds = svm.predict(x_test)\n",
    "    \n",
    "    # Predictions are either -1 or 1\n",
    "    preds = (preds < 0).astype(int)\n",
    "    \n",
    "    pre = precision_score(y_test, preds)\n",
    "    rec = recall_score(y_test, preds)\n",
    "    f1 = f1_score(y_test, preds)\n",
    "    \n",
    "    return {'precision': pre, 'recall': rec, 'f1': f1}\n",
    "    "
   ]
  },
  {
   "cell_type": "code",
   "execution_count": null,
   "id": "13185066-ec2a-4bed-8974-cfd3c2b0f533",
   "metadata": {},
   "outputs": [],
   "source": []
  },
  {
   "cell_type": "code",
   "execution_count": 20,
   "id": "d7648471-4e29-4a00-ae23-70b187ec9abf",
   "metadata": {},
   "outputs": [],
   "source": [
    "# Perform experimental search for best gamma parameter\n",
    "validation_results = {}\n",
    "gamma = [0.005, 0.05, 0.5]\n",
    "for g in gamma:\n",
    "    \n",
    "    # We are fixing the n_estimators to 50 to be quicker. n_jobs = -1 lets us train on all cores\n",
    "    svm = OneClassSVM(nu=0.0065, gamma=g)\n",
    "    \n",
    "    res = experiment(svm, x_train_train[:20000], y_train_train[:20000], x_val, y_val)\n",
    "    validation_results[g] = res\n",
    "    \n",
    "                       "
   ]
  },
  {
   "cell_type": "code",
   "execution_count": 21,
   "id": "72eec60f-683c-4c86-b5ac-bc078af4a3c6",
   "metadata": {},
   "outputs": [
    {
     "data": {
      "text/plain": [
       "[(0.005, 0.6390312063344201),\n",
       " (0.05, 0.6253418413855971),\n",
       " (0.5, 0.5301391035548686)]"
      ]
     },
     "execution_count": 21,
     "metadata": {},
     "output_type": "execute_result"
    }
   ],
   "source": [
    "# Printing out the results of the validation. \n",
    "[(f, validation_results[f]['f1']) for f in validation_results.keys()]"
   ]
  },
  {
   "cell_type": "code",
   "execution_count": 22,
   "id": "7379f816-cb33-416f-ba61-72c08b27380d",
   "metadata": {},
   "outputs": [],
   "source": [
    "# Perform experimental search for gamma with a narrower range. Looks like smaller gamma is better\n",
    "validation_results = {}\n",
    "# Search 1e-5, 5e-5, 1e-4, 1.5e-4, 1e-3, 1.5e-3 and 2e-3\n",
    "gamma = [1, 5, 10, 15, 20, 100, 150, 200]\n",
    "for g in gamma:\n",
    "    g = g / 100000.0\n",
    "    \n",
    "    # We are fixing the n_estimators to 50 to be quicker. n_jobs = -1 lets us train on all cores\n",
    "    svm = OneClassSVM(nu=0.0065, gamma=g)\n",
    "    \n",
    "    res = experiment(svm, x_train_train[:20000], y_train_train[:20000], x_val, y_val)\n",
    "    validation_results[g] = res\n",
    "    \n",
    "                       "
   ]
  },
  {
   "cell_type": "code",
   "execution_count": 23,
   "id": "ba5f6ebf-1ba8-4455-b191-cdeecfb28d0b",
   "metadata": {},
   "outputs": [
    {
     "data": {
      "text/plain": [
       "[(1e-05, 0.6605681271064034),\n",
       " (5e-05, 0.6502369668246446),\n",
       " (0.0001, 0.6411214953271028),\n",
       " (0.00015, 0.6414212248714353),\n",
       " (0.0002, 0.6414212248714353),\n",
       " (0.001, 0.6363636363636364),\n",
       " (0.0015, 0.638139534883721),\n",
       " (0.002, 0.6351851851851852)]"
      ]
     },
     "execution_count": 23,
     "metadata": {},
     "output_type": "execute_result"
    }
   ],
   "source": [
    "# Printing out the results of the validation.\n",
    "[(f, validation_results[f]['f1']) for f in validation_results.keys()]"
   ]
  },
  {
   "cell_type": "markdown",
   "id": "24a97791-b6db-4b73-aaa4-a0a4eac9c602",
   "metadata": {},
   "source": [
    "Let's try the gamma value of 1e-5 and now tune **nu**."
   ]
  },
  {
   "cell_type": "code",
   "execution_count": 24,
   "id": "0dae3758-b64e-41b2-8c19-04e6a40cb29a",
   "metadata": {},
   "outputs": [],
   "source": [
    "# Perform experimental search for nu\n",
    "validation_results = {}\n",
    "nu = range(1, 10)\n",
    "for n in nu:\n",
    "    n = n / 1000.0\n",
    "    \n",
    "    # We are fixing the n_estimators to 50 to be quicker. n_jobs = -1 lets us train on all cores\n",
    "    svm = OneClassSVM(nu=n, gamma=0.00001)\n",
    "    \n",
    "    res = experiment(svm, x_train_train[:20000], y_train_train[:20000], x_val, y_val)\n",
    "    validation_results[n] = res\n",
    "    \n",
    "                       "
   ]
  },
  {
   "cell_type": "code",
   "execution_count": 25,
   "id": "0c7d5b70-5407-4a12-87e6-87d48391af16",
   "metadata": {},
   "outputs": [
    {
     "data": {
      "text/plain": [
       "[(0.001, 0.921832884097035),\n",
       " (0.002, 0.8612680477087257),\n",
       " (0.003, 0.8094395280235989),\n",
       " (0.004, 0.7639198218262807),\n",
       " (0.005, 0.6656962639495391),\n",
       " (0.006, 0.7183246073298429),\n",
       " (0.007, 0.6316758747697975),\n",
       " (0.008, 0.6028119507908611),\n",
       " (0.009, 0.5688225538971808)]"
      ]
     },
     "execution_count": 25,
     "metadata": {},
     "output_type": "execute_result"
    }
   ],
   "source": [
    "# Printing out the results of the validation. \n",
    "[(f, validation_results[f]['f1']) for f in validation_results.keys()]"
   ]
  },
  {
   "cell_type": "code",
   "execution_count": 26,
   "id": "ed265b1a-bb9c-4cc5-92e3-8aa44be465d8",
   "metadata": {},
   "outputs": [],
   "source": [
    "# Perform experimental search for nu with a finer range\n",
    "validation_results = {}\n",
    "nu = range(1, 11)#[0.005, 0.0065, 0.01, 0.015]\n",
    "for n in nu:\n",
    "    n = n / 10000.0\n",
    "    \n",
    "    # We are fixing the n_estimators to 50 to be quicker. n_jobs = -1 lets us train on all cores\n",
    "    svm = OneClassSVM(nu=n, gamma=0.00001)\n",
    "    \n",
    "    res = experiment(svm, x_train_train[:20000], y_train_train[:20000], x_val, y_val)\n",
    "    validation_results[n] = res\n",
    "                           "
   ]
  },
  {
   "cell_type": "code",
   "execution_count": 27,
   "id": "39629e6f-4a70-471d-9e60-d992eab2df31",
   "metadata": {},
   "outputs": [
    {
     "data": {
      "text/plain": [
       "[(0.0001, 0.9032761310452418),\n",
       " (0.0002, 0.9607982893799002),\n",
       " (0.0003, 0.9540636042402827),\n",
       " (0.0004, 0.9489153254023793),\n",
       " (0.0005, 0.9517144856543038),\n",
       " (0.0006, 0.941908713692946),\n",
       " (0.0007, 0.9406077348066297),\n",
       " (0.0008, 0.9387474191328286),\n",
       " (0.0009, 0.9368998628257889),\n",
       " (0.001, 0.921832884097035)]"
      ]
     },
     "execution_count": 27,
     "metadata": {},
     "output_type": "execute_result"
    }
   ],
   "source": [
    "# Printing out the results of the validation. The optimal setting is between 512 and 2048\n",
    "[(f, validation_results[f]['f1']) for f in validation_results.keys()]"
   ]
  },
  {
   "cell_type": "markdown",
   "id": "c167695f-dc08-4119-bd1c-05da05614cf1",
   "metadata": {},
   "source": [
    "Now that we have found the optimal nu setting of 0.0002, let's try and train the model.\n",
    "\n",
    "It turns out that gamma = 1e-5 was not performing that well once the data size increased. We upped it to 0.005, which produced favorable results and allowed the model to generalize better."
   ]
  },
  {
   "cell_type": "code",
   "execution_count": 28,
   "id": "bc7878e0-038c-4b31-9bb9-0227b2a032b3",
   "metadata": {},
   "outputs": [
    {
     "data": {
      "text/html": [
       "<style>#sk-container-id-2 {color: black;background-color: white;}#sk-container-id-2 pre{padding: 0;}#sk-container-id-2 div.sk-toggleable {background-color: white;}#sk-container-id-2 label.sk-toggleable__label {cursor: pointer;display: block;width: 100%;margin-bottom: 0;padding: 0.3em;box-sizing: border-box;text-align: center;}#sk-container-id-2 label.sk-toggleable__label-arrow:before {content: \"▸\";float: left;margin-right: 0.25em;color: #696969;}#sk-container-id-2 label.sk-toggleable__label-arrow:hover:before {color: black;}#sk-container-id-2 div.sk-estimator:hover label.sk-toggleable__label-arrow:before {color: black;}#sk-container-id-2 div.sk-toggleable__content {max-height: 0;max-width: 0;overflow: hidden;text-align: left;background-color: #f0f8ff;}#sk-container-id-2 div.sk-toggleable__content pre {margin: 0.2em;color: black;border-radius: 0.25em;background-color: #f0f8ff;}#sk-container-id-2 input.sk-toggleable__control:checked~div.sk-toggleable__content {max-height: 200px;max-width: 100%;overflow: auto;}#sk-container-id-2 input.sk-toggleable__control:checked~label.sk-toggleable__label-arrow:before {content: \"▾\";}#sk-container-id-2 div.sk-estimator input.sk-toggleable__control:checked~label.sk-toggleable__label {background-color: #d4ebff;}#sk-container-id-2 div.sk-label input.sk-toggleable__control:checked~label.sk-toggleable__label {background-color: #d4ebff;}#sk-container-id-2 input.sk-hidden--visually {border: 0;clip: rect(1px 1px 1px 1px);clip: rect(1px, 1px, 1px, 1px);height: 1px;margin: -1px;overflow: hidden;padding: 0;position: absolute;width: 1px;}#sk-container-id-2 div.sk-estimator {font-family: monospace;background-color: #f0f8ff;border: 1px dotted black;border-radius: 0.25em;box-sizing: border-box;margin-bottom: 0.5em;}#sk-container-id-2 div.sk-estimator:hover {background-color: #d4ebff;}#sk-container-id-2 div.sk-parallel-item::after {content: \"\";width: 100%;border-bottom: 1px solid gray;flex-grow: 1;}#sk-container-id-2 div.sk-label:hover label.sk-toggleable__label {background-color: #d4ebff;}#sk-container-id-2 div.sk-serial::before {content: \"\";position: absolute;border-left: 1px solid gray;box-sizing: border-box;top: 0;bottom: 0;left: 50%;z-index: 0;}#sk-container-id-2 div.sk-serial {display: flex;flex-direction: column;align-items: center;background-color: white;padding-right: 0.2em;padding-left: 0.2em;position: relative;}#sk-container-id-2 div.sk-item {position: relative;z-index: 1;}#sk-container-id-2 div.sk-parallel {display: flex;align-items: stretch;justify-content: center;background-color: white;position: relative;}#sk-container-id-2 div.sk-item::before, #sk-container-id-2 div.sk-parallel-item::before {content: \"\";position: absolute;border-left: 1px solid gray;box-sizing: border-box;top: 0;bottom: 0;left: 50%;z-index: -1;}#sk-container-id-2 div.sk-parallel-item {display: flex;flex-direction: column;z-index: 1;position: relative;background-color: white;}#sk-container-id-2 div.sk-parallel-item:first-child::after {align-self: flex-end;width: 50%;}#sk-container-id-2 div.sk-parallel-item:last-child::after {align-self: flex-start;width: 50%;}#sk-container-id-2 div.sk-parallel-item:only-child::after {width: 0;}#sk-container-id-2 div.sk-dashed-wrapped {border: 1px dashed gray;margin: 0 0.4em 0.5em 0.4em;box-sizing: border-box;padding-bottom: 0.4em;background-color: white;}#sk-container-id-2 div.sk-label label {font-family: monospace;font-weight: bold;display: inline-block;line-height: 1.2em;}#sk-container-id-2 div.sk-label-container {text-align: center;}#sk-container-id-2 div.sk-container {/* jupyter's `normalize.less` sets `[hidden] { display: none; }` but bootstrap.min.css set `[hidden] { display: none !important; }` so we also need the `!important` here to be able to override the default hidden behavior on the sphinx rendered scikit-learn.org. See: https://github.com/scikit-learn/scikit-learn/issues/21755 */display: inline-block !important;position: relative;}#sk-container-id-2 div.sk-text-repr-fallback {display: none;}</style><div id=\"sk-container-id-2\" class=\"sk-top-container\"><div class=\"sk-text-repr-fallback\"><pre>OneClassSVM(gamma=0.005, nu=0.0002)</pre><b>In a Jupyter environment, please rerun this cell to show the HTML representation or trust the notebook. <br />On GitHub, the HTML representation is unable to render, please try loading this page with nbviewer.org.</b></div><div class=\"sk-container\" hidden><div class=\"sk-item\"><div class=\"sk-estimator sk-toggleable\"><input class=\"sk-toggleable__control sk-hidden--visually\" id=\"sk-estimator-id-2\" type=\"checkbox\" checked><label for=\"sk-estimator-id-2\" class=\"sk-toggleable__label sk-toggleable__label-arrow\">OneClassSVM</label><div class=\"sk-toggleable__content\"><pre>OneClassSVM(gamma=0.005, nu=0.0002)</pre></div></div></div></div></div>"
      ],
      "text/plain": [
       "OneClassSVM(gamma=0.005, nu=0.0002)"
      ]
     },
     "execution_count": 28,
     "metadata": {},
     "output_type": "execute_result"
    }
   ],
   "source": [
    "# We increased gamma back to 0.005 as it helped with the fit once we increased the number of samples.\n",
    "svm = OneClassSVM(nu=0.0002, gamma=0.005)\n",
    "svm.fit(x_train_train[:])"
   ]
  },
  {
   "cell_type": "code",
   "execution_count": 29,
   "id": "85df7479-fc6e-411e-aba7-3687deb49270",
   "metadata": {},
   "outputs": [],
   "source": [
    "preds = svm.predict(x_test)\n",
    "preds = (preds < 0).astype(int)"
   ]
  },
  {
   "cell_type": "code",
   "execution_count": 30,
   "id": "72d0fa28-8d50-460a-9bf8-9f0bd6127ac9",
   "metadata": {},
   "outputs": [
    {
     "name": "stdout",
     "output_type": "stream",
     "text": [
      "Precision: 0.9709897610921502\n",
      "Recall: 1.0\n",
      "F1-Measure: 0.9852813852813853\n"
     ]
    }
   ],
   "source": [
    "pre = precision_score(y_test, preds)\n",
    "rec = recall_score(y_test, preds)\n",
    "f1 = f1_score(y_test, preds)\n",
    "\n",
    "print(f\"Precision: {pre}\")\n",
    "print(f\"Recall: {rec}\")\n",
    "print(f\"F1-Measure: {f1}\")\n"
   ]
  },
  {
   "cell_type": "code",
   "execution_count": 31,
   "id": "028a77f7-5e3c-49ed-ab39-3f945f236876",
   "metadata": {},
   "outputs": [
    {
     "data": {
      "text/plain": [
       "<sklearn.metrics._plot.confusion_matrix.ConfusionMatrixDisplay at 0x15d8e6f49d0>"
      ]
     },
     "execution_count": 31,
     "metadata": {},
     "output_type": "execute_result"
    },
    {
     "data": {
      "image/png": "[encoded data removed]",
      "text/plain": [
       "<Figure size 432x288 with 2 Axes>"
      ]
     },
     "metadata": {
      "needs_background": "light"
     },
     "output_type": "display_data"
    }
   ],
   "source": [
    "ConfusionMatrixDisplay(confusion_matrix(y_test, preds)).plot()"
   ]
  },
  {
   "cell_type": "markdown",
   "id": "6869f87c-fc40-42ad-bb88-62820767e96a",
   "metadata": {},
   "source": [
    "Analyzing the confusion matrix, this model did very well. There are no false negatives, and only 17 false positives.\n",
    "\n",
    "One-Class SVM is much more sensitive and responsive to dataset processing and hyperparameter tuning, but it is capable of producing strong results."
   ]
  },
  {
   "cell_type": "code",
   "execution_count": null,
   "id": "b7ea460e-f385-4152-a81e-fc795e82d77c",
   "metadata": {},
   "outputs": [],
   "source": []
  }
 ],
 "metadata": {
  "kernelspec": {
   "display_name": "Python 3 (ipykernel)",
   "language": "python",
   "name": "python3"
  },
  "language_info": {
   "codemirror_mode": {
    "name": "ipython",
    "version": 3
   },
   "file_extension": ".py",
   "mimetype": "text/x-python",
   "name": "python",
   "nbconvert_exporter": "python",
   "pygments_lexer": "ipython3",
   "version": "3.8.12"
  }
 },
 "nbformat": 4,
 "nbformat_minor": 5
}
