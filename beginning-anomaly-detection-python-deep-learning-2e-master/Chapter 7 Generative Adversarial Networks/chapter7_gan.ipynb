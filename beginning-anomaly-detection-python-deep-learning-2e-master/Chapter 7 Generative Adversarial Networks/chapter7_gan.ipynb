{
 "cells": [
  {
   "cell_type": "code",
   "execution_count": 1,
   "id": "f7a3992a-2426-49d7-b111-816caa9fec43",
   "metadata": {},
   "outputs": [
    {
     "name": "stdout",
     "output_type": "stream",
     "text": [
      "Seaborn:  0.12.2\n",
      "TensorFlow:  2.7.0\n"
     ]
    }
   ],
   "source": [
    "import numpy as np\n",
    "import pandas as pd\n",
    "import matplotlib.pyplot as plt\n",
    "from sklearn.model_selection import train_test_split\n",
    "from sklearn.preprocessing import LabelEncoder, MinMaxScaler\n",
    "from sklearn.metrics import precision_score, recall_score, f1_score, confusion_matrix, roc_auc_score\n",
    "\n",
    "import tensorflow as tf\n",
    "import seaborn as sns\n",
    "print(f'Seaborn: ', sns.__version__)\n",
    "print(f'TensorFlow: ', tf.__version__)\n"
   ]
  },
  {
   "cell_type": "code",
   "execution_count": 2,
   "id": "02fabe08-2337-463f-9f44-ff449222abc0",
   "metadata": {},
   "outputs": [],
   "source": [
    "columns = [\"duration\", \"protocol_type\", \"service\", \"flag\", \"src_bytes\", \"dst_bytes\", \"land\", \"wrong_fragment\", \"urgent\",\n",
    "        \"hot\", \"num_failed_logins\", \"logged_in\", \"num_compromised\", \"root_shell\", \"su_attempted\", \"num_root\", \n",
    "        \"num_file_creations\", \"num_shells\", \"num_access_files\", \"num_outbound_cmds\", \"is_host_login\",\n",
    "        \"is_guest_login\", \"count\", \"srv_count\", \"serror_rate\", \"srv_serror_rate\", \"rerror_rate\", \"srv_rerror_rate\",\n",
    "        \"same_srv_rate\", \"diff_srv_rate\", \"srv_diff_host_rate\", \"dst_host_count\", \"dst_host_srv_count\", \n",
    "        \"dst_host_same_srv_rate\", \"dst_host_diff_srv_rate\", \"dst_host_same_src_port_rate\", \"dst_host_srv_diff_host_rate\",\n",
    "        \"dst_host_serror_rate\", \"dst_host_srv_serror_rate\", \"dst_host_rerror_rate\", \"dst_host_srv_rerror_rate\", \"label\"]\n",
    "\n",
    "df = pd.read_csv(\"data/kddcup.data.corrected\", sep=\",\", names=columns, index_col=None)\n"
   ]
  },
  {
   "cell_type": "code",
   "execution_count": 3,
   "id": "581dadbe-2a4c-4955-8fb6-6d46f6eca5ce",
   "metadata": {},
   "outputs": [],
   "source": [
    "# Filter to only 'http' attacks\n",
    "df = df[df[\"service\"] == \"http\"]\n",
    "df = df.drop(\"service\", axis=1)\n"
   ]
  },
  {
   "cell_type": "code",
   "execution_count": 4,
   "id": "534c2842-6db3-4a68-b455-106d8e2087a7",
   "metadata": {},
   "outputs": [
    {
     "data": {
      "text/plain": [
       "label\n",
       "0    619046\n",
       "1      4045\n",
       "Name: count, dtype: int64"
      ]
     },
     "execution_count": 4,
     "metadata": {},
     "output_type": "execute_result"
    }
   ],
   "source": [
    "df['label'] = df['label'].apply(lambda x: 0 if x=='normal.' else 1)\n",
    "df['label'].value_counts()"
   ]
  },
  {
   "cell_type": "code",
   "execution_count": 5,
   "id": "85a36a85-a33b-4b1c-a34c-01d495f6cb57",
   "metadata": {},
   "outputs": [],
   "source": [
    "datatypes = dict(zip(df.dtypes.index, df.dtypes))\n",
    "\n",
    "encoder_map = {}\n",
    "for col, datatype in datatypes.items():\n",
    "    if datatype == 'object':\n",
    "        encoder = LabelEncoder()\n",
    "        df[col] = encoder.fit_transform(df[col])\n",
    "        encoder_map[col] = encoder \n"
   ]
  },
  {
   "cell_type": "code",
   "execution_count": 6,
   "id": "713a32b2-2618-49e7-9873-a87ffe75d68f",
   "metadata": {},
   "outputs": [],
   "source": [
    "# Check the variables with highest correlation with 'label'\n",
    "df2 = df.copy()\n",
    "label_corr = df2.corr()['label']"
   ]
  },
  {
   "cell_type": "code",
   "execution_count": 7,
   "id": "4be10598-25c7-4353-a2a5-aa10112ba649",
   "metadata": {},
   "outputs": [
    {
     "data": {
      "text/plain": [
       "['src_bytes',\n",
       " 'hot',\n",
       " 'num_compromised',\n",
       " 'count',\n",
       " 'serror_rate',\n",
       " 'srv_serror_rate',\n",
       " 'same_srv_rate',\n",
       " 'diff_srv_rate',\n",
       " 'dst_host_srv_count',\n",
       " 'dst_host_same_srv_rate',\n",
       " 'dst_host_diff_srv_rate',\n",
       " 'dst_host_serror_rate',\n",
       " 'dst_host_srv_serror_rate']"
      ]
     },
     "execution_count": 7,
     "metadata": {},
     "output_type": "execute_result"
    }
   ],
   "source": [
    "# Filter out anything that has null entry or is not weakly correlated\n",
    "train_cols = label_corr[(~label_corr.isna()) & (np.abs(label_corr) > 0.2)]\n",
    "train_cols = list(train_cols[:-1].index)\n",
    "train_cols"
   ]
  },
  {
   "cell_type": "code",
   "execution_count": 8,
   "id": "5304efab-cb87-45e3-9dda-ceffe0444ce4",
   "metadata": {},
   "outputs": [],
   "source": [
    "# Removing these two columns as their correlation with 'src_bytes' is high\n",
    "remove_cols = ['hot', 'num_compromised']\n",
    "for r in remove_cols:\n",
    "    train_cols.remove(r)"
   ]
  },
  {
   "cell_type": "code",
   "execution_count": 9,
   "id": "bbfc00fe-3ef9-42a8-a6b7-372aedd6c3d7",
   "metadata": {},
   "outputs": [],
   "source": [
    "scaler_map = {}\n",
    "for col in train_cols:\n",
    "    scaler = MinMaxScaler()\n",
    "    df2[col] = scaler.fit_transform(df2[col].values.reshape(-1, 1))\n",
    "    scaler_map[col] = scaler \n"
   ]
  },
  {
   "cell_type": "code",
   "execution_count": 10,
   "id": "159f878f-003e-4aaa-bdd3-69bab5f366ae",
   "metadata": {},
   "outputs": [],
   "source": [
    "normal_df = df2[df2['label'] == 0]\n",
    "anomaly_df = df2[df2['label'] == 1]\n"
   ]
  },
  {
   "cell_type": "code",
   "execution_count": 11,
   "id": "1b1d21e6-9f9e-4a60-a965-287878b33a2f",
   "metadata": {},
   "outputs": [],
   "source": [
    "labels_norm = normal_df['label']\n",
    "x_train_norm, x_test_norm, y_train_norm, y_test_norm = train_test_split(normal_df[train_cols].values, labels_norm.values, test_size=0.15, random_state=42) "
   ]
  },
  {
   "cell_type": "code",
   "execution_count": 12,
   "id": "c1291130-4ed1-44b3-90cc-c0e962e31ffb",
   "metadata": {},
   "outputs": [],
   "source": [
    "# Additional split of training dataset to create validation split\n",
    "x_test_anom, x_val_anom, y_test_anom, y_val_anom = train_test_split(anomaly_df[train_cols].values, anomaly_df['label'].values, test_size=0.2, random_state=42)"
   ]
  },
  {
   "cell_type": "code",
   "execution_count": 13,
   "id": "850387d2-ef5b-405e-bee5-4b14e4f478ce",
   "metadata": {},
   "outputs": [],
   "source": [
    "# Additional split of training dataset to create validation split\n",
    "x_train, x_val_norm, y_train, y_val_norm = train_test_split(x_train_norm, y_train_norm, test_size=0.1, random_state=42)"
   ]
  },
  {
   "cell_type": "code",
   "execution_count": 14,
   "id": "01e20694-6657-4a17-a139-a9c37230be7b",
   "metadata": {},
   "outputs": [
    {
     "name": "stdout",
     "output_type": "stream",
     "text": [
      "Shapes\n",
      "x_train:(473570, 11)\n",
      "y_train:(473570,)\n",
      "\n",
      "x_val:(53428, 11)\n",
      "y_val:(53428,)\n",
      "\n",
      "x_test:(96093, 11)\n",
      "y_test:(96093,)\n"
     ]
    }
   ],
   "source": [
    "x_test = np.concatenate((x_test_norm, x_test_anom))\n",
    "y_test = np.concatenate((y_test_norm, y_test_anom))\n",
    "x_val = np.concatenate((x_val_norm, x_val_anom))\n",
    "y_val = np.concatenate((y_val_norm, y_val_anom))\n",
    "print(\"Shapes\")\n",
    "print(f\"x_train:{x_train.shape}\\ny_train:{y_train.shape}\")\n",
    "print(f\"\\nx_val:{x_val.shape}\\ny_val:{y_val.shape}\")\n",
    "print(f\"\\nx_test:{x_test.shape}\\ny_test:{y_test.shape}\")"
   ]
  },
  {
   "cell_type": "code",
   "execution_count": 27,
   "id": "23b95dd6-ecf6-4a84-b53d-d3de737e514b",
   "metadata": {},
   "outputs": [],
   "source": [
    "from tensorflow.keras.models import Model\n",
    "from tensorflow.keras.layers import Input, Dense, LeakyReLU, BatchNormalization\n",
    "from tensorflow.keras.regularizers import L2\n",
    "from tensorflow.keras.callbacks import EarlyStopping\n",
    "from tensorflow.keras.losses import BinaryCrossentropy\n",
    "from tensorflow.keras.optimizers import Adam, RMSprop\n",
    "\n",
    "seed = 10\n",
    "tf.random.set_seed(seed)\n",
    "np.random.seed(seed)\n"
   ]
  },
  {
   "cell_type": "code",
   "execution_count": 28,
   "id": "73b80682-406e-4be0-b8cb-2a41afd42bb0",
   "metadata": {},
   "outputs": [],
   "source": [
    "# The input layer requires you to specify the dimensionality of the x-features (and not the number of samples)\n",
    "noise_dimension = 50\n",
    "data_dim = x_train.shape[-1]\n",
    "## GENERATOR\n",
    "g_in = Input(shape=(noise_dimension))\n",
    "g_h1 = Dense(4*data_dim, activation=LeakyReLU(alpha=0.01), kernel_initializer = 'he_normal')(g_in)\n",
    "g_bn1 = BatchNormalization()(g_h1)\n",
    "g_h2 = Dense(4*data_dim, activation=LeakyReLU(alpha=0.01), kernel_initializer = 'he_normal')(g_bn1)\n",
    "g_bn2 = BatchNormalization()(g_h2)\n",
    "g_h3 = Dense(4*data_dim, activation=LeakyReLU(alpha=0.01), kernel_initializer = 'he_normal')(g_bn2)\n",
    "g_bn3 = BatchNormalization()(g_h3)\n",
    "g_h4 = Dense(data_dim, activation=LeakyReLU(alpha=0.01), kernel_initializer = 'he_normal')(g_bn3)\n",
    "g_bn4 = BatchNormalization()(g_h4)\n",
    "g_out = Dense(data_dim, activation='relu', )(g_bn4)\n",
    "\n",
    "\n",
    "# Creating a model by specifying the input layer and output layer\n",
    "generator = Model(g_in, g_out)"
   ]
  },
  {
   "cell_type": "code",
   "execution_count": 29,
   "id": "f68dbad8-c262-42e3-8d61-7efbe60455d6",
   "metadata": {},
   "outputs": [],
   "source": [
    "## DISCRIMINATOR\n",
    "d_in = Input(shape=(data_dim))\n",
    "d_h1 = Dense(4*data_dim, activation=LeakyReLU(alpha=0.01), kernel_initializer = 'he_normal', )(d_in)\n",
    "d_bn1 = BatchNormalization()(d_h1)\n",
    "d_h2 = Dense(4*data_dim, activation=LeakyReLU(alpha=0.01), kernel_initializer = 'he_normal', )(d_bn1)\n",
    "d_bn2 = BatchNormalization()(d_h2)\n",
    "d_h3 = Dense(2*data_dim, activation=LeakyReLU(alpha=0.01), kernel_initializer = 'he_normal', )(d_bn2)\n",
    "d_bn3 = BatchNormalization()(d_h3)\n",
    "d_h4 = Dense(data_dim, activation=LeakyReLU(alpha=0.01), kernel_initializer = 'he_normal', )(d_bn3)\n",
    "\n",
    "d_out = Dense(1, activation='linear',)(d_h4)\n",
    "\n",
    "# Creating a model by specifying the input layer and output layer\n",
    "discriminator = Model(d_in, d_out)"
   ]
  },
  {
   "cell_type": "code",
   "execution_count": 30,
   "id": "daaaf983-5b7a-4731-9785-1997b22ac262",
   "metadata": {},
   "outputs": [],
   "source": [
    "g_optim = RMSprop(5e-5)\n",
    "d_optim = RMSprop(1e-5)"
   ]
  },
  {
   "cell_type": "code",
   "execution_count": 31,
   "id": "037f0c2c-7f64-48d6-a7df-29b8b5dbe1c0",
   "metadata": {},
   "outputs": [],
   "source": [
    "batch_size = 4096\n",
    "train_dataset = tf.data.Dataset.from_tensor_slices(x_train[:]).shuffle(len(x_train[:])).batch(batch_size)\n"
   ]
  },
  {
   "cell_type": "code",
   "execution_count": 32,
   "id": "e550e473-1e8f-43d3-a875-b2ec4673cbac",
   "metadata": {},
   "outputs": [
    {
     "name": "stdout",
     "output_type": "stream",
     "text": [
      "\n",
      "Epoch 0\n",
      "  115/116: g_loss -0.23272466659545898 | d_loss: 4.443209171295166 real -0.3765527606010437 fake 0.23272466659545898226\n",
      " 0.9933422103861518 0.9221260815822002 0.9564102564102565\n",
      "\n",
      "Epoch 1\n",
      "  115/116: g_loss -0.8314056396484375 | d_loss: 1.3387994766235352 real -0.4450206160545349 fake 0.831405639648437536\n",
      " 0.9973404255319149 0.927070457354759 0.9609224855861628\n",
      "\n",
      "Epoch 2\n",
      "  115/116: g_loss -1.8064360618591309 | d_loss: -0.49550795555114746 real -0.508586049079895 fake 1.806436061859130936\n",
      " 0.9986684420772304 0.927070457354759 0.9615384615384616\n",
      "\n",
      "Epoch 3\n",
      "  115/116: g_loss -3.4109129905700684 | d_loss: -1.8184123039245605 real -0.5498615503311157 fake 3.4109129905700684\n",
      " 0.9973579920739762 0.9332509270704573 0.9642401021711366\n",
      "\n",
      "Epoch 4\n",
      "  115/116: g_loss -5.768181800842285 | d_loss: -4.170583724975586 real -0.5694270133972168 fake 5.76818180084228545\n",
      " 0.9960681520314548 0.9394313967861557 0.9669211195928753\n",
      "\n",
      "Epoch 5\n",
      "  115/116: g_loss -9.104137420654297 | d_loss: -7.686542510986328 real -0.5778399109840393 fake 9.10413742065429715\n",
      " 0.9961340206185567 0.9555006180469716 0.9753943217665615\n",
      "\n",
      "Epoch 6\n",
      "  115/116: g_loss -13.829886436462402 | d_loss: -12.809880256652832 real -0.5801756381988525 fake 13.829886436462402\n",
      " 0.9949558638083228 0.9752781211372065 0.9850187265917604\n",
      "\n",
      "Epoch 7\n",
      "  115/116: g_loss -20.321208953857422 | d_loss: -19.457338333129883 real -0.5874105095863342 fake 20.321208953857422\n",
      " 0.9912060301507538 0.9752781211372065 0.983177570093458\n",
      "\n",
      "Epoch 8\n",
      "  115/116: g_loss -28.798673629760742 | d_loss: -27.889427185058594 real -0.5943936705589294 fake 28.798673629760742\n",
      " 0.9912060301507538 0.9752781211372065 0.983177570093458\n",
      "\n",
      "Epoch 9\n",
      "  115/116: g_loss -40.05650329589844 | d_loss: -39.10804748535156 real -0.6086999773979187 fake 40.05650329589844065\n",
      " 0.9899623588456713 0.9752781211372065 0.9825653798256538\n"
     ]
    }
   ],
   "source": [
    "def gradient_penalty(critic, real_data, generated_data):\n",
    "    alpha = tf.random.uniform([real_data.shape[0], 1], 0., 1.)\n",
    "    interpolated_data = alpha * tf.cast(real_data, 'float32') + (1. - alpha) * generated_data\n",
    "    with tf.GradientTape() as tape:\n",
    "        tape.watch(interpolated_data)\n",
    "        critic_interpolated = critic(interpolated_data)\n",
    "        \n",
    "    gradients = tape.gradient(critic_interpolated, [interpolated_data])[0]\n",
    "    gradients_norm = tf.sqrt(tf.reduce_sum(tf.square(gradients), axis=[1]))\n",
    "    gradient_penalty = tf.reduce_mean((gradients_norm - 1.)**2)\n",
    "    \n",
    "    return gradient_penalty\n",
    "\n",
    "epochs = 10\n",
    "lambda_gp = 10\n",
    "\n",
    "g_loss = 0\n",
    "d_loss = 0\n",
    "d_loss_real = 0\n",
    "d_loss_fake = 0\n",
    "for e in range(epochs):\n",
    "    print(f'\\nEpoch {e}')\n",
    "    for i, batch_x in enumerate(train_dataset):\n",
    "        print(f'\\r  {i}/{len(train_dataset)}: g_loss {g_loss} | d_loss: {d_loss} real {d_loss_real} fake {d_loss_fake}'.ljust(100, ' '), end='')\n",
    "\n",
    "        random_noise = tf.random.normal([len(batch_x), noise_dimension])\n",
    "\n",
    "        with tf.GradientTape() as gen_tape, tf.GradientTape() as disc_tape:\n",
    "            g_output = generator(random_noise)\n",
    "\n",
    "            real_outputs = discriminator(batch_x)\n",
    "            fake_outputs = discriminator(g_output)\n",
    "\n",
    "            g_loss = -1*tf.keras.backend.mean(tf.ones_like(fake_outputs) * fake_outputs)\n",
    "\n",
    "            d_loss_real = tf.keras.backend.mean(tf.ones_like(real_outputs) * real_outputs)\n",
    "            d_loss_fake = tf.keras.backend.mean(tf.ones_like(fake_outputs) * fake_outputs)\n",
    "\n",
    "            # # d_loss = d_loss_real - d_loss_fake \n",
    "            gp = gradient_penalty(discriminator, batch_x, g_output)\n",
    "            \n",
    "            # Combine losses\n",
    "            d_loss = d_loss_real - d_loss_fake + lambda_gp * gp\n",
    "            \n",
    "        d_grads = disc_tape.gradient(d_loss, discriminator.trainable_variables)\n",
    "        d_optim.apply_gradients(zip(d_grads, discriminator.trainable_variables))\n",
    "\n",
    "        g_grads = gen_tape.gradient(g_loss, generator.trainable_variables)\n",
    "        g_optim.apply_gradients(zip(g_grads, generator.trainable_variables))\n",
    "    preds = discriminator.predict(x_val)\n",
    "    preds = np.where(preds.reshape(-1) < 0, 0, 1)\n",
    "    print('\\n', precision_score(y_val, preds), recall_score(y_val, preds), f1_score(y_val, preds))"
   ]
  },
  {
   "cell_type": "code",
   "execution_count": null,
   "id": "f763a6ab-6b11-4db7-81e8-8998c56476e2",
   "metadata": {},
   "outputs": [],
   "source": []
  },
  {
   "cell_type": "code",
   "execution_count": 39,
   "id": "32eba211-8615-44ea-b00b-8e32e14f5e19",
   "metadata": {},
   "outputs": [
    {
     "name": "stdout",
     "output_type": "stream",
     "text": [
      "1\n",
      " seed:  1 precision:  0.17236084452975048 recall:  0.5550061804697157 f1:  0.2630345635618044\n",
      "10\n",
      " seed:  10 precision:  0.9920212765957447 recall:  0.9221260815822002 f1:  0.9557975656630365\n",
      "99"
     ]
    }
   ],
   "source": [
    "# Seed search if needed. Keep the batch_size the same as when you'll be training\n",
    "results = {}\n",
    "best_score = 0\n",
    "best_seed = None \n",
    "# Can set a high batch size to make seed search go faster. Set to what your GPU can handle\n",
    "batch_size = 4096\n",
    "train_dataset = tf.data.Dataset.from_tensor_slices(x_train[:50000]).shuffle(len(x_train[:50000])).batch(batch_size)\n",
    "for seed in range(100):\n",
    "    print(f'\\r{seed}', end='')\n",
    "    # seed = 10\n",
    "    tf.random.set_seed(seed)\n",
    "    tf.keras.utils.set_random_seed(seed)\n",
    "    np.random.seed(seed)\n",
    "\n",
    "    noise_dimension = 50\n",
    "    data_dim = x_train.shape[-1]\n",
    "    ## GENERATOR\n",
    "    g_in = Input(shape=(noise_dimension))\n",
    "    g_h1 = Dense(4*data_dim, activation=LeakyReLU(alpha=0.01), kernel_initializer = 'he_normal')(g_in)\n",
    "    g_bn1 = BatchNormalization()(g_h1)\n",
    "    g_h2 = Dense(4*data_dim, activation=LeakyReLU(alpha=0.01), kernel_initializer = 'he_normal')(g_bn1)\n",
    "    g_bn2 = BatchNormalization()(g_h2)\n",
    "    g_h3 = Dense(4*data_dim, activation=LeakyReLU(alpha=0.01), kernel_initializer = 'he_normal')(g_bn2)\n",
    "    g_bn3 = BatchNormalization()(g_h3)\n",
    "    g_h4 = Dense(data_dim, activation=LeakyReLU(alpha=0.01), kernel_initializer = 'he_normal')(g_bn3)\n",
    "    g_bn4 = BatchNormalization()(g_h4)\n",
    "    g_out = Dense(data_dim, activation='relu', )(g_bn4)\n",
    "    \n",
    "    # Creating a model by specifying the input layer and output layer\n",
    "    generator = Model(g_in, g_out)\n",
    "    \n",
    "    ## DISCRIMINATOR\n",
    "    d_in = Input(shape=(data_dim))\n",
    "    d_h1 = Dense(4*data_dim, activation=LeakyReLU(alpha=0.01), kernel_initializer = 'he_normal', )(d_in)\n",
    "    d_bn1 = BatchNormalization()(d_h1)\n",
    "    d_h2 = Dense(4*data_dim, activation=LeakyReLU(alpha=0.01), kernel_initializer = 'he_normal', )(d_bn1)\n",
    "    d_bn2 = BatchNormalization()(d_h2)\n",
    "    d_h3 = Dense(2*data_dim, activation=LeakyReLU(alpha=0.01), kernel_initializer = 'he_normal', )(d_bn2)\n",
    "    d_bn3 = BatchNormalization()(d_h3)\n",
    "    d_h4 = Dense(data_dim, activation=LeakyReLU(alpha=0.01), kernel_initializer = 'he_normal', )(d_bn3)\n",
    "    \n",
    "    d_out = Dense(1, activation='linear',)(d_h4)\n",
    "    \n",
    "    # Creating a model by specifying the input layer and output layer\n",
    "    discriminator = Model(d_in, d_out)\n",
    "    \n",
    "    g_optim = RMSprop(5e-5)\n",
    "    d_optim = RMSprop(1e-5)\n",
    "    \n",
    "    batch_size = 4096\n",
    "    train_dataset = tf.data.Dataset.from_tensor_slices(x_train[:50000]).shuffle(len(x_train[:50000])).batch(batch_size)\n",
    "    # Add checkpointing and load the best one in relation to the validation set\n",
    "    \n",
    "    def gradient_penalty(critic, real_data, generated_data):\n",
    "        alpha = tf.random.uniform([real_data.shape[0], 1], 0., 1.)\n",
    "        interpolated_data = alpha * tf.cast(real_data, 'float32') + (1. - alpha) * generated_data\n",
    "        with tf.GradientTape() as tape:\n",
    "            tape.watch(interpolated_data)\n",
    "            critic_interpolated = critic(interpolated_data)\n",
    "            \n",
    "        gradients = tape.gradient(critic_interpolated, [interpolated_data])[0]\n",
    "        gradients_norm = tf.sqrt(tf.reduce_sum(tf.square(gradients), axis=[1]))\n",
    "        gradient_penalty = tf.reduce_mean((gradients_norm - 1.)**2)\n",
    "        \n",
    "        return gradient_penalty\n",
    "        \n",
    "    epochs = 1\n",
    "    lambda_gp = 10\n",
    "    \n",
    "    g_loss = 0\n",
    "    d_loss = 0\n",
    "    d_loss_real = 0\n",
    "    d_loss_fake = 0\n",
    "    loss_fn = BinaryCrossentropy()\n",
    "    for e in range(epochs):\n",
    "        for i, batch_x in enumerate(train_dataset):\n",
    "            # print(f'\\r  {i}/{len(train_dataset)}: g_loss {g_loss} | d_loss: {d_loss} real {d_loss_real} fake {d_loss_fake}'.ljust(100, ' '), end='')\n",
    "    \n",
    "            random_noise = tf.random.normal([len(batch_x), noise_dimension])\n",
    "    \n",
    "            with tf.GradientTape() as gen_tape, tf.GradientTape() as disc_tape:\n",
    "                g_output = generator(random_noise)\n",
    "    \n",
    "                real_outputs = discriminator(batch_x)\n",
    "                fake_outputs = discriminator(g_output)\n",
    "    \n",
    "                g_loss = -1*tf.keras.backend.mean(tf.ones_like(fake_outputs) * fake_outputs)\n",
    "    \n",
    "                d_loss_real = tf.keras.backend.mean(tf.ones_like(real_outputs) * real_outputs)\n",
    "                d_loss_fake = tf.keras.backend.mean(tf.ones_like(fake_outputs) * fake_outputs)\n",
    "    \n",
    "                # # d_loss = d_loss_real - d_loss_fake \n",
    "                gp = gradient_penalty(discriminator, batch_x, g_output)\n",
    "                \n",
    "                # Combine losses\n",
    "                d_loss = d_loss_real - d_loss_fake + lambda_gp * gp\n",
    "                \n",
    "            d_grads = disc_tape.gradient(d_loss, discriminator.trainable_variables)\n",
    "            d_optim.apply_gradients(zip(d_grads, discriminator.trainable_variables))\n",
    "    \n",
    "          \n",
    "            g_grads = gen_tape.gradient(g_loss, generator.trainable_variables)\n",
    "            g_optim.apply_gradients(zip(g_grads, generator.trainable_variables))\n",
    "        preds = discriminator.predict(x_val)\n",
    "        preds = np.where(preds.reshape(-1) < 0, 0, 1)\n",
    "\n",
    "        f1 = f1_score(y_val, preds)\n",
    "        if f1 > best_score:\n",
    "            best_score = f1\n",
    "            best_seed = seed \n",
    "            print('\\n', 'seed: ', seed, \n",
    "                  'precision: ', precision_score(y_val, preds), \n",
    "                  'recall: ', recall_score(y_val, preds), \n",
    "                  'f1: ', f1_score(y_val, preds))\n",
    "        results[seed] = f1\n",
    "        "
   ]
  },
  {
   "cell_type": "code",
   "execution_count": 40,
   "id": "76b72af3-a7c7-4e31-aaa1-ffeaac879ca9",
   "metadata": {},
   "outputs": [
    {
     "name": "stdout",
     "output_type": "stream",
     "text": [
      "Best seed: 10 with F1: 0.9557975656630365\n"
     ]
    }
   ],
   "source": [
    "print(f'Best seed: {best_seed} with F1: {results[best_seed]}')"
   ]
  },
  {
   "cell_type": "code",
   "execution_count": 33,
   "id": "bbcb3968-a2a9-4492-abc8-78e35232721b",
   "metadata": {},
   "outputs": [],
   "source": [
    "preds = discriminator.predict(x_test)\n",
    "y_pred = np.where(preds.reshape(-1) < 0, 0, 1)\n"
   ]
  },
  {
   "cell_type": "code",
   "execution_count": 34,
   "id": "44738ce9-bb93-477b-83dc-1600099dfb7e",
   "metadata": {},
   "outputs": [
    {
     "name": "stdout",
     "output_type": "stream",
     "text": [
      "Precision: 0.995598868280415\n",
      "Recall: 0.9786773794808405\n",
      "F1-Measure: 0.9870656069814555\n"
     ]
    }
   ],
   "source": [
    "precision = precision_score(y_test, y_pred)\n",
    "recall = recall_score(y_test, y_pred)\n",
    "f1 = f1_score(y_test, y_pred)\n",
    "\n",
    "print(f\"Precision: {precision}\")\n",
    "print(f\"Recall: {recall}\")\n",
    "print(f\"F1-Measure: {f1}\")"
   ]
  },
  {
   "cell_type": "code",
   "execution_count": 35,
   "id": "8f1ea91d-f8dd-45ea-8bf2-fc2e4d51fbeb",
   "metadata": {},
   "outputs": [
    {
     "data": {
      "text/plain": [
       "0    92912\n",
       "1     3181\n",
       "Name: count, dtype: int64"
      ]
     },
     "execution_count": 35,
     "metadata": {},
     "output_type": "execute_result"
    }
   ],
   "source": [
    "pd.Series(y_pred).value_counts()"
   ]
  },
  {
   "cell_type": "code",
   "execution_count": 36,
   "id": "af6894e7-7286-44ce-9776-9e3d6e403217",
   "metadata": {},
   "outputs": [
    {
     "data": {
      "text/plain": [
       "0    92857\n",
       "1     3236\n",
       "Name: count, dtype: int64"
      ]
     },
     "execution_count": 36,
     "metadata": {},
     "output_type": "execute_result"
    }
   ],
   "source": [
    "pd.Series(y_test).value_counts()"
   ]
  },
  {
   "cell_type": "code",
   "execution_count": 37,
   "id": "03107605-3525-48bd-bf24-6f5433a05b72",
   "metadata": {},
   "outputs": [
    {
     "data": {
      "text/plain": [
       "Text(33.0, 0.5, 'True Label')"
      ]
     },
     "execution_count": 37,
     "metadata": {},
     "output_type": "execute_result"
    },
    {
     "data": {
      "image/png": "[encoded data removed]",
      "text/plain": [
       "<Figure size 432x288 with 2 Axes>"
      ]
     },
     "metadata": {
      "needs_background": "light"
     },
     "output_type": "display_data"
    }
   ],
   "source": [
    "cm = confusion_matrix(y_test, y_pred)\n",
    "plt.title(\"Confusion Matrix\")\n",
    "ax = sns.heatmap(cm, annot=True, fmt='0.0f')\n",
    "ax.invert_yaxis()\n",
    "ax.invert_xaxis()\n",
    "ax.set_xlabel('Predicted Label')\n",
    "ax.set_ylabel('True Label')"
   ]
  },
  {
   "cell_type": "code",
   "execution_count": null,
   "id": "ead8d8a1-0130-4f18-807e-527a370ad945",
   "metadata": {},
   "outputs": [],
   "source": []
  }
 ],
 "metadata": {
  "kernelspec": {
   "display_name": "Python 3 (ipykernel)",
   "language": "python",
   "name": "python3"
  },
  "language_info": {
   "codemirror_mode": {
    "name": "ipython",
    "version": 3
   },
   "file_extension": ".py",
   "mimetype": "text/x-python",
   "name": "python",
   "nbconvert_exporter": "python",
   "pygments_lexer": "ipython3",
   "version": "3.8.12"
  }
 },
 "nbformat": 4,
 "nbformat_minor": 5
}
