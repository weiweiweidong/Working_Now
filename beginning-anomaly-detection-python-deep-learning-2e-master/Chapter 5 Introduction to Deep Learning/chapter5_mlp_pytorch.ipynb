{
 "cells": [
  {
   "cell_type": "code",
   "execution_count": 1,
   "id": "f7a3992a-2426-49d7-b111-816caa9fec43",
   "metadata": {},
   "outputs": [
    {
     "name": "stdout",
     "output_type": "stream",
     "text": [
      "seaborn:  0.11.2\n"
     ]
    }
   ],
   "source": [
    "import numpy as np\n",
    "import pandas as pd\n",
    "import matplotlib.pyplot as plt\n",
    "from sklearn.model_selection import train_test_split\n",
    "from sklearn.preprocessing import LabelEncoder\n",
    "from sklearn.metrics import precision_score, recall_score, f1_score, confusion_matrix, roc_auc_score\n",
    "\n",
    "import seaborn as sns \n",
    "\n",
    "print('seaborn: ', sns.__version__)"
   ]
  },
  {
   "cell_type": "code",
   "execution_count": 2,
   "id": "02fabe08-2337-463f-9f44-ff449222abc0",
   "metadata": {},
   "outputs": [],
   "source": [
    "columns = [\"duration\", \"protocol_type\", \"service\", \"flag\", \"src_bytes\", \"dst_bytes\", \"land\", \"wrong_fragment\", \"urgent\",\n",
    "        \"hot\", \"num_failed_logins\", \"logged_in\", \"num_compromised\", \"root_shell\", \"su_attempted\", \"num_root\", \n",
    "        \"num_file_creations\", \"num_shells\", \"num_access_files\", \"num_outbound_cmds\", \"is_host_login\",\n",
    "        \"is_guest_login\", \"count\", \"srv_count\", \"serror_rate\", \"srv_serror_rate\", \"rerror_rate\", \"srv_rerror_rate\",\n",
    "        \"same_srv_rate\", \"diff_srv_rate\", \"srv_diff_host_rate\", \"dst_host_count\", \"dst_host_srv_count\", \n",
    "        \"dst_host_same_srv_rate\", \"dst_host_diff_srv_rate\", \"dst_host_same_src_port_rate\", \"dst_host_srv_diff_host_rate\",\n",
    "        \"dst_host_serror_rate\", \"dst_host_srv_serror_rate\", \"dst_host_rerror_rate\", \"dst_host_srv_rerror_rate\", \"label\"]\n",
    "\n",
    "df = pd.read_csv(\"data/kddcup.data.corrected\", sep=\",\", names=columns, index_col=None)\n"
   ]
  },
  {
   "cell_type": "code",
   "execution_count": 3,
   "id": "581dadbe-2a4c-4955-8fb6-6d46f6eca5ce",
   "metadata": {},
   "outputs": [],
   "source": [
    "# Filter to only 'http' attacks\n",
    "df = df[df[\"service\"] == \"http\"]\n",
    "df = df.drop(\"service\", axis=1)\n"
   ]
  },
  {
   "cell_type": "code",
   "execution_count": 4,
   "id": "534c2842-6db3-4a68-b455-106d8e2087a7",
   "metadata": {},
   "outputs": [
    {
     "data": {
      "text/plain": [
       "label\n",
       "0    619046\n",
       "1      4045\n",
       "Name: count, dtype: int64"
      ]
     },
     "execution_count": 4,
     "metadata": {},
     "output_type": "execute_result"
    }
   ],
   "source": [
    "df['label'] = df['label'].apply(lambda x: 0 if x=='normal.' else 1)\n",
    "df['label'].value_counts()"
   ]
  },
  {
   "cell_type": "code",
   "execution_count": 5,
   "id": "85a36a85-a33b-4b1c-a34c-01d495f6cb57",
   "metadata": {},
   "outputs": [],
   "source": [
    "datatypes = dict(zip(df.dtypes.index, df.dtypes))\n",
    "\n",
    "encoder_map = {}\n",
    "for col, datatype in datatypes.items():\n",
    "    if datatype == 'object':\n",
    "        encoder = LabelEncoder()\n",
    "        df[col] = encoder.fit_transform(df[col])\n",
    "        encoder_map[col] = encoder \n"
   ]
  },
  {
   "cell_type": "code",
   "execution_count": 6,
   "id": "713a32b2-2618-49e7-9873-a87ffe75d68f",
   "metadata": {},
   "outputs": [
    {
     "data": {
      "text/plain": [
       "['src_bytes',\n",
       " 'hot',\n",
       " 'num_compromised',\n",
       " 'count',\n",
       " 'serror_rate',\n",
       " 'srv_serror_rate',\n",
       " 'same_srv_rate',\n",
       " 'diff_srv_rate',\n",
       " 'dst_host_srv_count',\n",
       " 'dst_host_same_srv_rate',\n",
       " 'dst_host_diff_srv_rate',\n",
       " 'dst_host_serror_rate',\n",
       " 'dst_host_srv_serror_rate']"
      ]
     },
     "execution_count": 6,
     "metadata": {},
     "output_type": "execute_result"
    }
   ],
   "source": [
    "# Check the variables with highest correlation with 'label'\n",
    "df2 = df.copy()\n",
    "label_corr = df2.corr()['label']\n",
    "\n",
    "# Filter out anything that has null entry or is not weakly correlated\n",
    "train_cols = label_corr[(~label_corr.isna()) & (np.abs(label_corr) > 0.2)]\n",
    "train_cols = list(train_cols[:-1].index)\n",
    "train_cols"
   ]
  },
  {
   "cell_type": "code",
   "execution_count": 7,
   "id": "205c551d-4261-452c-bff6-dde996a1ed7d",
   "metadata": {},
   "outputs": [],
   "source": [
    "labels = df2['label']\n",
    "# Conduct a train-test split    \n",
    "x_train, x_test, y_train, y_test = train_test_split(df2[train_cols].values, labels.values, test_size = 0.15, random_state = 42)\n"
   ]
  },
  {
   "cell_type": "code",
   "execution_count": 8,
   "id": "eb37e05c-7556-494d-be4c-774378f00c8a",
   "metadata": {},
   "outputs": [],
   "source": [
    "# Additional split of training dataset to create validation split\n",
    "x_train, x_val, y_train, y_val = train_test_split(x_train, y_train, test_size=0.2, random_state=42)"
   ]
  },
  {
   "cell_type": "code",
   "execution_count": 9,
   "id": "ab4c5cba-4f00-4653-af7e-e01257f8c0a7",
   "metadata": {},
   "outputs": [
    {
     "name": "stdout",
     "output_type": "stream",
     "text": [
      "Shapes\n",
      "x_train:(423701, 13)\n",
      "y_train:(423701,)\n",
      "\n",
      "x_val:(105926, 13)\n",
      "y_val:(105926,)\n",
      "\n",
      "x_test:(93464, 13)\n",
      "y_test:(93464,)\n"
     ]
    }
   ],
   "source": [
    "print(\"Shapes\")\n",
    "print(f\"x_train:{x_train.shape}\\ny_train:{y_train.shape}\")\n",
    "print(f\"\\nx_val:{x_val.shape}\\ny_val:{y_val.shape}\")\n",
    "print(f\"\\nx_test:{x_test.shape}\\ny_test:{y_test.shape}\")"
   ]
  },
  {
   "cell_type": "code",
   "execution_count": 23,
   "id": "23b95dd6-ecf6-4a84-b53d-d3de737e514b",
   "metadata": {},
   "outputs": [
    {
     "name": "stdout",
     "output_type": "stream",
     "text": [
      "Torch version: 1.9.0+cu111\n"
     ]
    }
   ],
   "source": [
    "import torch\n",
    "\n",
    "print(f\"Torch version: {torch.__version__}\")\n",
    "from torch.nn import Linear, CrossEntropyLoss\n",
    "from torch.optim import Adam\n",
    "from torch.utils.data import DataLoader, Dataset, TensorDataset"
   ]
  },
  {
   "cell_type": "code",
   "execution_count": 11,
   "id": "5750902a-a509-4199-bf36-efe87608c716",
   "metadata": {},
   "outputs": [],
   "source": [
    "x_train = torch.Tensor(x_train)\n",
    "y_train = torch.Tensor(y_train).type(torch.long)\n",
    "\n",
    "x_val = torch.Tensor(x_val)\n",
    "y_val = torch.Tensor(y_val).type(torch.long)\n",
    "\n",
    "x_test = torch.Tensor(x_test)\n",
    "y_test = torch.Tensor(y_test).type(torch.long)\n",
    "\n",
    "train_set = TensorDataset(x_train, y_train)\n",
    "val_set = TensorDataset(x_val, y_val)\n",
    "test_set = TensorDataset(x_test, y_test)\n",
    "\n",
    "train_dataloader = DataLoader(train_set, batch_size = 128)\n",
    "val_dataloader = DataLoader(val_set, batch_size = 128)\n",
    "test_dataloader = DataLoader(test_set, batch_size = 128)\n"
   ]
  },
  {
   "cell_type": "code",
   "execution_count": 14,
   "id": "c32694fb-b052-46ad-8f3a-f7baf8a0cf7b",
   "metadata": {},
   "outputs": [],
   "source": [
    "\n",
    "class model(torch.nn.Module):\n",
    "    def __init__(self):\n",
    "        super().__init__()\n",
    "            \n",
    "        self.h1 = Linear(13, 26)\n",
    "        self.h2 = Linear(26, 26)\n",
    "        self.h3 = Linear(26, 26)\n",
    "        self.h4 = Linear(26, 6)\n",
    "        self.h5 = Linear(6, 2)\n",
    "    \n",
    "    def forward(self, x):\n",
    "        x = self.h1(x).relu()\n",
    "        x = self.h2(x).relu()\n",
    "        x = self.h3(x).relu()\n",
    "        x = self.h4(x).relu()\n",
    "        x = self.h5(x)\n",
    "        \n",
    "        return x \n",
    "    \n",
    "mlp = model()"
   ]
  },
  {
   "cell_type": "code",
   "execution_count": 15,
   "id": "73b80682-406e-4be0-b8cb-2a41afd42bb0",
   "metadata": {},
   "outputs": [],
   "source": [
    "optim = Adam(mlp.parameters(), lr=1e-3)\n",
    "criterion = CrossEntropyLoss() "
   ]
  },
  {
   "cell_type": "code",
   "execution_count": 17,
   "id": "a837e8dc-4e08-42aa-b089-e34a0ebf516f",
   "metadata": {},
   "outputs": [
    {
     "name": "stdout",
     "output_type": "stream",
     "text": [
      "Epoch 0 / 20: 827/828 | loss: 0.0007202776032499969 acc: 1.0 val_loss: 0.003406143917886041 val_acc: 0.9998583917074184                                                                                \n",
      "Epoch 1 / 20: 827/828 | loss: 0.00105832249391824 acc: 1.0 val_loss: 0.002974088849828259 val_acc: 0.9998678322602571                                                                                  \n",
      "Epoch 2 / 20: 827/828 | loss: 0.000773684645537287 acc: 1.0 val_loss: 0.002741797632033878 val_acc: 0.9998772728130959                                                                                 \n",
      "Epoch 3 / 20: 827/828 | loss: 0.0006962550687603652 acc: 1.0 val_loss: 0.002940932255303532 val_acc: 0.9998961539187735                                                                                \n",
      "Epoch 4 / 20: 827/828 | loss: 0.0007242353749461472 acc: 1.0 val_loss: 0.002827661038488307 val_acc: 0.9998961539187735                                                                                \n",
      "Epoch 5 / 20: 827/828 | loss: 0.0006321458495222032 acc: 1.0 val_loss: 0.0025162437367185517 val_acc: 0.9998961539187735                                                                               \n",
      "Epoch 6 / 20: 827/828 | loss: 0.000612203439231962 acc: 1.0 val_loss: 0.009361552663939298 val_acc: 0.9962804221815229                                                                                 \n",
      "Epoch 7 / 20: 827/828 | loss: 0.0008201689925044775 acc: 1.0 val_loss: 0.0072782886366259784 val_acc: 0.9964220304741046                                                                               \n",
      "Epoch 8 / 20: 827/828 | loss: 0.0010553736938163638 acc: 1.0 val_loss: 0.005277823925902392 val_acc: 0.9998961539187735                                                                                \n",
      "Epoch 9 / 20: 827/828 | loss: 0.0012233523884788156 acc: 1.0 val_loss: 0.007399877606849479 val_acc: 0.9973849668636595                                                                                \n",
      "Epoch 10 / 20: 827/828 | loss: 0.0013556014746427536 acc: 1.0 val_loss: 0.007573924820076063 val_acc: 0.9967713309291392                                                                               \n",
      "Epoch 10 / 20: 827/828 | loss: 0.0013556014746427536 acc: 1.0 val_loss: 0.007573924820076063 val_acc: 0.9967713309291392 Early Stopping                                                                \n"
     ]
    }
   ],
   "source": [
    "epochs = 20\n",
    "tolerance = 1e-3\n",
    "lambda_ = 1e-5\n",
    "best_loss = np.inf\n",
    "patience = 5\n",
    "early_stop_counter = 0\n",
    "best_save_path = 'ch5_mlp_pytorch_best.pt'\n",
    "\n",
    "mlp.cuda()\n",
    "for e in range(epochs):\n",
    "    \n",
    "    for i, (data, labels) in enumerate(train_dataloader):\n",
    "        optim.zero_grad()\n",
    "        \n",
    "        data = data.cuda()\n",
    "        labels = labels.cuda()\n",
    "        \n",
    "        preds = mlp.forward(data)\n",
    "        \n",
    "        loss = criterion(preds, labels)\n",
    "        \n",
    "        l2_norm = sum(p.pow(2.0).sum() for p in mlp.parameters())\n",
    "        loss = loss + lambda_ * l2_norm\n",
    "        \n",
    "        loss.backward()\n",
    "        \n",
    "        optim.step()\n",
    "        \n",
    "        predictions = preds.detach().cpu().numpy().argmax(axis=1)\n",
    "        y_true = labels.detach().cpu().numpy()\n",
    "        \n",
    "        acc = np.mean(y_true == predictions)\n",
    "        \n",
    "        print(f'\\rEpoch {e} / {epochs}: {i}/{len(train_dataloader)} | loss: {loss.item()} acc: {acc}'.ljust(200, ' '), end= '')\n",
    "        \n",
    "        \n",
    "    # Validation\n",
    "    \n",
    "    with torch.no_grad():\n",
    "        hold = np.array([])\n",
    "        loss_hold = []\n",
    "        for i, (data, labels) in enumerate(val_dataloader):\n",
    "\n",
    "            data = data.cuda()\n",
    "            labels = labels.cuda()\n",
    "\n",
    "            preds = mlp.forward(data)\n",
    "\n",
    "            loss = criterion(preds, labels)\n",
    "            l2_norm = sum(p.pow(2.0).sum() for p in mlp.parameters())\n",
    "            loss = loss + lambda_ * l2_norm\n",
    "\n",
    "            predictions = preds.detach().cpu().numpy().argmax(axis=1)\n",
    "            y_true = labels.detach().cpu().numpy()\n",
    "            \n",
    "            hold = np.concatenate((y_true == predictions, hold))\n",
    "            loss_hold.append(loss.item())\n",
    "            \n",
    "        val_acc = np.mean(hold)\n",
    "        val_loss = np.mean(loss_hold)\n",
    "        print(f'\\rEpoch {e} / {epochs}: {i}/{len(val_dataloader)} | loss: {loss.item()} acc: {acc} val_loss: {val_loss} val_acc: {val_acc}'.ljust(200, ' '), end= '\\n')\n",
    "    \n",
    "    if val_loss < best_loss:\n",
    "        best_loss = val_loss\n",
    "        early_stop_counter = 0\n",
    "        \n",
    "        torch.save(mlp.state_dict(), best_save_path)\n",
    "        \n",
    "    elif abs(best_loss - val_loss) <= tolerance:\n",
    "        pass\n",
    "    else:\n",
    "        early_stop_counter += 1\n",
    "        \n",
    "        if early_stop_counter >= patience:\n",
    "            print(f'\\rEpoch {e} / {epochs}: {i}/{len(val_dataloader)} | loss: {loss.item()} acc: {acc} val_loss: {val_loss} val_acc: {val_acc} Early Stopping'.ljust(200, ' '), end= '\\n')\n",
    "            mlp.load_state_dict(torch.load(best_save_path))\n",
    "            break \n",
    "                   \n",
    "                   "
   ]
  },
  {
   "cell_type": "code",
   "execution_count": 18,
   "id": "7387f0a6-2808-4cea-b3af-cd78e73a4019",
   "metadata": {},
   "outputs": [
    {
     "name": "stdout",
     "output_type": "stream",
     "text": [
      "Evaluating 730/731 | loss: 0.00024468251649472625 acc: 0.9999679020799452                                                                                                                              "
     ]
    }
   ],
   "source": [
    "with torch.no_grad():\n",
    "    hold = np.array([])\n",
    "    loss_hold = []\n",
    "    for i, (data, labels) in enumerate(test_dataloader):\n",
    "\n",
    "        data = data.cuda()\n",
    "        labels = labels.cuda()\n",
    "\n",
    "        preds = mlp.forward(data)\n",
    "\n",
    "        loss = criterion(preds, labels)\n",
    "\n",
    "        predictions = preds.detach().cpu().numpy().argmax(axis=1)\n",
    "        y_true = labels.detach().cpu().numpy()\n",
    "\n",
    "        hold = np.concatenate((y_true == predictions, hold))\n",
    "        loss_hold.append(loss.item())\n",
    "        print(f'\\rEvaluating {i}/{len(test_dataloader)} | loss: {loss.item()} acc: {np.mean(y_true==predictions)}'.ljust(200, ' '), end= '')\n",
    "        \n",
    "    test_acc = np.mean(hold)\n",
    "    test_loss = np.mean(loss_hold)\n",
    "    print(f'\\rEvaluating {i}/{len(test_dataloader)} | loss: {test_loss} acc: {test_acc}'.ljust(200, ' '), end= '')\n",
    "\n"
   ]
  },
  {
   "cell_type": "code",
   "execution_count": 19,
   "id": "686f2433-1c99-4057-896b-77099a7a2543",
   "metadata": {},
   "outputs": [
    {
     "name": "stdout",
     "output_type": "stream",
     "text": [
      "Precision: 1.0\n",
      "Recall: 0.9947275922671354\n",
      "F1-Measure: 0.9973568281938325\n"
     ]
    }
   ],
   "source": [
    "preds = mlp.forward(x_test.cuda())\n",
    "\n",
    "# Detach from Cuda and derive the label predictions from the probability scores\n",
    "y_preds = preds.detach().cpu().numpy().argmax(axis=1)\n",
    "\n",
    "# Original labels became a tensor, so convert back to a numpy array\n",
    "y_true = y_test.numpy()\n",
    "\n",
    "# Compute precision, recall, f1 scores\n",
    "precision = precision_score(y_true, y_preds)\n",
    "recall = recall_score(y_true, y_preds)\n",
    "f1_measure = f1_score(y_true, y_preds)\n",
    "\n",
    "print(f\"Precision: {precision}\")\n",
    "print(f\"Recall: {recall}\")\n",
    "print(f\"F1-Measure: {f1_measure}\")"
   ]
  },
  {
   "cell_type": "code",
   "execution_count": 24,
   "id": "8803f136-0a95-4dad-b76c-eeb0151af61d",
   "metadata": {},
   "outputs": [
    {
     "data": {
      "text/plain": [
       "0.9973637961335677"
      ]
     },
     "execution_count": 24,
     "metadata": {},
     "output_type": "execute_result"
    }
   ],
   "source": [
    "roc_auc_score(y_true, y_preds)"
   ]
  },
  {
   "cell_type": "code",
   "execution_count": 25,
   "id": "03107605-3525-48bd-bf24-6f5433a05b72",
   "metadata": {},
   "outputs": [
    {
     "data": {
      "text/plain": [
       "Text(33.0, 0.5, 'True Label')"
      ]
     },
     "execution_count": 25,
     "metadata": {},
     "output_type": "execute_result"
    },
    {
     "data": {
      "image/png": "[encoded data removed]",
      "text/plain": [
       "<Figure size 432x288 with 2 Axes>"
      ]
     },
     "metadata": {
      "needs_background": "light"
     },
     "output_type": "display_data"
    }
   ],
   "source": [
    "cm = confusion_matrix(y_true, y_preds)\n",
    "plt.title(\"Confusion Matrix\")\n",
    "ax = sns.heatmap(cm, annot=True, fmt='0.0f')\n",
    "ax.invert_yaxis()\n",
    "ax.invert_xaxis()\n",
    "ax.set_xlabel('Predicted Label')\n",
    "ax.set_ylabel('True Label')"
   ]
  },
  {
   "cell_type": "code",
   "execution_count": null,
   "id": "946a2d85-c05d-428e-96bd-9596a70c5161",
   "metadata": {},
   "outputs": [],
   "source": []
  },
  {
   "cell_type": "code",
   "execution_count": null,
   "id": "a0023b29-2557-4882-b2e2-2d92b55cb64c",
   "metadata": {},
   "outputs": [],
   "source": []
  }
 ],
 "metadata": {
  "kernelspec": {
   "display_name": "Python 3 (ipykernel)",
   "language": "python",
   "name": "python3"
  },
  "language_info": {
   "codemirror_mode": {
    "name": "ipython",
    "version": 3
   },
   "file_extension": ".py",
   "mimetype": "text/x-python",
   "name": "python",
   "nbconvert_exporter": "python",
   "pygments_lexer": "ipython3",
   "version": "3.8.12"
  }
 },
 "nbformat": 4,
 "nbformat_minor": 5
}
