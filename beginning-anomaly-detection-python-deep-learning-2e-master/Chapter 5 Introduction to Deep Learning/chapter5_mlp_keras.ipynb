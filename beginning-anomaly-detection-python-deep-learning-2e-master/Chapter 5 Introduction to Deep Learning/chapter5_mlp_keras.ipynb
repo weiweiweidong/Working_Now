{
 "cells": [
  {
   "cell_type": "code",
   "execution_count": 1,
   "id": "f7a3992a-2426-49d7-b111-816caa9fec43",
   "metadata": {},
   "outputs": [
    {
     "name": "stdout",
     "output_type": "stream",
     "text": [
      "seaborn:  0.11.2\n"
     ]
    }
   ],
   "source": [
    "import numpy as np\n",
    "import pandas as pd\n",
    "import matplotlib.pyplot as plt\n",
    "from sklearn.model_selection import train_test_split\n",
    "from sklearn.preprocessing import LabelEncoder\n",
    "from sklearn.metrics import precision_score, recall_score, f1_score, confusion_matrix, roc_auc_score\n",
    "\n",
    "import seaborn as sns\n",
    "print('seaborn: ', sns.__version__)"
   ]
  },
  {
   "cell_type": "code",
   "execution_count": 2,
   "id": "02fabe08-2337-463f-9f44-ff449222abc0",
   "metadata": {},
   "outputs": [],
   "source": [
    "columns = [\"duration\", \"protocol_type\", \"service\", \"flag\", \"src_bytes\", \"dst_bytes\", \"land\", \"wrong_fragment\", \"urgent\",\n",
    "        \"hot\", \"num_failed_logins\", \"logged_in\", \"num_compromised\", \"root_shell\", \"su_attempted\", \"num_root\", \n",
    "        \"num_file_creations\", \"num_shells\", \"num_access_files\", \"num_outbound_cmds\", \"is_host_login\",\n",
    "        \"is_guest_login\", \"count\", \"srv_count\", \"serror_rate\", \"srv_serror_rate\", \"rerror_rate\", \"srv_rerror_rate\",\n",
    "        \"same_srv_rate\", \"diff_srv_rate\", \"srv_diff_host_rate\", \"dst_host_count\", \"dst_host_srv_count\", \n",
    "        \"dst_host_same_srv_rate\", \"dst_host_diff_srv_rate\", \"dst_host_same_src_port_rate\", \"dst_host_srv_diff_host_rate\",\n",
    "        \"dst_host_serror_rate\", \"dst_host_srv_serror_rate\", \"dst_host_rerror_rate\", \"dst_host_srv_rerror_rate\", \"label\"]\n",
    "\n",
    "df = pd.read_csv(\"data/kddcup.data.corrected\", sep=\",\", names=columns, index_col=None)\n"
   ]
  },
  {
   "cell_type": "code",
   "execution_count": 3,
   "id": "581dadbe-2a4c-4955-8fb6-6d46f6eca5ce",
   "metadata": {},
   "outputs": [],
   "source": [
    "# Filter to only 'http' attacks\n",
    "df = df[df[\"service\"] == \"http\"]\n",
    "df = df.drop(\"service\", axis=1)\n"
   ]
  },
  {
   "cell_type": "code",
   "execution_count": 4,
   "id": "534c2842-6db3-4a68-b455-106d8e2087a7",
   "metadata": {},
   "outputs": [
    {
     "data": {
      "text/plain": [
       "label\n",
       "0    619046\n",
       "1      4045\n",
       "Name: count, dtype: int64"
      ]
     },
     "execution_count": 4,
     "metadata": {},
     "output_type": "execute_result"
    }
   ],
   "source": [
    "df['label'] = df['label'].apply(lambda x: 0 if x=='normal.' else 1)\n",
    "df['label'].value_counts()"
   ]
  },
  {
   "cell_type": "code",
   "execution_count": 5,
   "id": "85a36a85-a33b-4b1c-a34c-01d495f6cb57",
   "metadata": {},
   "outputs": [],
   "source": [
    "datatypes = dict(zip(df.dtypes.index, df.dtypes))\n",
    "\n",
    "encoder_map = {}\n",
    "for col, datatype in datatypes.items():\n",
    "    if datatype == 'object':\n",
    "        encoder = LabelEncoder()\n",
    "        df[col] = encoder.fit_transform(df[col])\n",
    "        encoder_map[col] = encoder \n"
   ]
  },
  {
   "cell_type": "code",
   "execution_count": 6,
   "id": "713a32b2-2618-49e7-9873-a87ffe75d68f",
   "metadata": {},
   "outputs": [],
   "source": [
    "# Check the variables with highest correlation with 'label'\n",
    "df2 = df.copy()\n",
    "label_corr = df2.corr()['label']"
   ]
  },
  {
   "cell_type": "code",
   "execution_count": 7,
   "id": "4be10598-25c7-4353-a2a5-aa10112ba649",
   "metadata": {},
   "outputs": [
    {
     "data": {
      "text/plain": [
       "['src_bytes',\n",
       " 'hot',\n",
       " 'num_compromised',\n",
       " 'count',\n",
       " 'serror_rate',\n",
       " 'srv_serror_rate',\n",
       " 'same_srv_rate',\n",
       " 'diff_srv_rate',\n",
       " 'dst_host_srv_count',\n",
       " 'dst_host_same_srv_rate',\n",
       " 'dst_host_diff_srv_rate',\n",
       " 'dst_host_serror_rate',\n",
       " 'dst_host_srv_serror_rate']"
      ]
     },
     "execution_count": 7,
     "metadata": {},
     "output_type": "execute_result"
    }
   ],
   "source": [
    "# Filter out anything that has null entry or is not weakly correlated\n",
    "train_cols = label_corr[(~label_corr.isna()) & (np.abs(label_corr) > 0.2)]\n",
    "train_cols = list(train_cols[:-1].index)\n",
    "train_cols"
   ]
  },
  {
   "cell_type": "code",
   "execution_count": 8,
   "id": "205c551d-4261-452c-bff6-dde996a1ed7d",
   "metadata": {},
   "outputs": [],
   "source": [
    "labels = df2['label']\n",
    "# Conduct a train-test split    \n",
    "x_train, x_test, y_train, y_test = train_test_split(df2[train_cols].values, labels.values, test_size = 0.15, random_state = 42)\n"
   ]
  },
  {
   "cell_type": "code",
   "execution_count": 9,
   "id": "eb37e05c-7556-494d-be4c-774378f00c8a",
   "metadata": {},
   "outputs": [],
   "source": [
    "# Additional split of training dataset to create validation split\n",
    "x_train, x_val, y_train, y_val = train_test_split(x_train, y_train, test_size=0.2, random_state=42)"
   ]
  },
  {
   "cell_type": "code",
   "execution_count": 10,
   "id": "5616b7c9-1e90-4bc2-8e98-df38656b8f54",
   "metadata": {},
   "outputs": [
    {
     "name": "stdout",
     "output_type": "stream",
     "text": [
      "Shapes\n",
      "x_train:(423701, 13)\n",
      "y_train:(423701,)\n",
      "\n",
      "x_val:(105926, 13)\n",
      "y_val:(105926,)\n",
      "\n",
      "x_test:(93464, 13)\n",
      "y_test:(93464,)\n"
     ]
    }
   ],
   "source": [
    "print(\"Shapes\")\n",
    "print(f\"x_train:{x_train.shape}\\ny_train:{y_train.shape}\")\n",
    "print(f\"\\nx_val:{x_val.shape}\\ny_val:{y_val.shape}\")\n",
    "print(f\"\\nx_test:{x_test.shape}\\ny_test:{y_test.shape}\")"
   ]
  },
  {
   "cell_type": "code",
   "execution_count": 11,
   "id": "f5856682-83a5-46a3-bc66-6a2769fde34a",
   "metadata": {},
   "outputs": [
    {
     "data": {
      "text/plain": [
       "'2.7.0'"
      ]
     },
     "execution_count": 11,
     "metadata": {},
     "output_type": "execute_result"
    }
   ],
   "source": [
    "import tensorflow\n",
    "tensorflow.__version__"
   ]
  },
  {
   "cell_type": "code",
   "execution_count": 12,
   "id": "d55434dc-d152-4b0e-bd58-1cb8a8bd71e5",
   "metadata": {},
   "outputs": [],
   "source": [
    "from tensorflow.keras.utils import to_categorical\n",
    "\n",
    "y_train =  to_categorical(y_train)\n",
    "y_test =  to_categorical(y_test)\n",
    "y_val =  to_categorical(y_val)"
   ]
  },
  {
   "cell_type": "code",
   "execution_count": 13,
   "id": "ab4c5cba-4f00-4653-af7e-e01257f8c0a7",
   "metadata": {},
   "outputs": [
    {
     "name": "stdout",
     "output_type": "stream",
     "text": [
      "Shapes\n",
      "x_train:(423701, 13)\n",
      "y_train:(423701, 2)\n",
      "\n",
      "x_val:(105926, 13)\n",
      "y_val:(105926, 2)\n",
      "\n",
      "x_test:(93464, 13)\n",
      "y_test:(93464, 2)\n"
     ]
    }
   ],
   "source": [
    "print(\"Shapes\")\n",
    "print(f\"x_train:{x_train.shape}\\ny_train:{y_train.shape}\")\n",
    "print(f\"\\nx_val:{x_val.shape}\\ny_val:{y_val.shape}\")\n",
    "print(f\"\\nx_test:{x_test.shape}\\ny_test:{y_test.shape}\")"
   ]
  },
  {
   "cell_type": "code",
   "execution_count": 14,
   "id": "23b95dd6-ecf6-4a84-b53d-d3de737e514b",
   "metadata": {},
   "outputs": [],
   "source": [
    "from tensorflow.keras.models import Model\n",
    "from tensorflow.keras.layers import Input, Dense\n",
    "from tensorflow.keras.regularizers import L2\n",
    "from tensorflow.keras.callbacks import EarlyStopping"
   ]
  },
  {
   "cell_type": "code",
   "execution_count": 25,
   "id": "73b80682-406e-4be0-b8cb-2a41afd42bb0",
   "metadata": {},
   "outputs": [],
   "source": [
    "# The input layer requires you to specify the dimensionality of the x-features (and not the number of samples)\n",
    "input_layer = Input(shape=(13))\n",
    "h1 = Dense(26, activation='relu', kernel_initializer = 'he_uniform', kernel_regularizer = L2(l2=1e-5))(input_layer)\n",
    "h2 = Dense(26, activation='relu', kernel_initializer = 'he_uniform', kernel_regularizer = L2(l2=1e-5))(h1)\n",
    "h3 = Dense(26, activation='relu', kernel_initializer = 'he_uniform', kernel_regularizer = L2(l2=1e-5))(h2)\n",
    "h4 = Dense(6, activation='relu', kernel_initializer = 'he_uniform', kernel_regularizer = L2(l2=1e-5))(h3)\n",
    "output_layer = Dense(2, activation='softmax', kernel_regularizer = L2(l2=1e-5))(h4)\n",
    "\n",
    "# Creating a model by specifying the input layer and output layer\n",
    "model = Model(input_layer, output_layer)"
   ]
  },
  {
   "cell_type": "code",
   "execution_count": 26,
   "id": "0e9d80b7-1b26-4b02-8293-13c90f835a5f",
   "metadata": {},
   "outputs": [],
   "source": [
    "es = EarlyStopping(patience=5, min_delta=1e-3, monitor='val_loss', restore_best_weights=True)\n",
    "\n",
    "callbacks = [es]\n",
    "\n",
    "model.compile(optimizer='adam', loss='categorical_crossentropy', metrics='accuracy')"
   ]
  },
  {
   "cell_type": "code",
   "execution_count": 27,
   "id": "a7326df3-12e5-4297-b4d4-c0d2cef191e4",
   "metadata": {},
   "outputs": [
    {
     "name": "stdout",
     "output_type": "stream",
     "text": [
      "Epoch 1/20\n",
      "3311/3311 [==============================] - 16s 5ms/step - loss: 0.3778 - accuracy: 0.9962 - val_loss: 0.0052 - val_accuracy: 0.9999\n",
      "Epoch 2/20\n",
      "3311/3311 [==============================] - 14s 4ms/step - loss: 0.0264 - accuracy: 0.9995 - val_loss: 0.0131 - val_accuracy: 0.9991\n",
      "Epoch 3/20\n",
      "3311/3311 [==============================] - 14s 4ms/step - loss: 0.0542 - accuracy: 0.9990 - val_loss: 0.0105 - val_accuracy: 0.9999\n",
      "Epoch 4/20\n",
      "3311/3311 [==============================] - 14s 4ms/step - loss: 0.0097 - accuracy: 0.9984 - val_loss: 0.0102 - val_accuracy: 0.9963\n",
      "Epoch 5/20\n",
      "3311/3311 [==============================] - 15s 5ms/step - loss: 0.0079 - accuracy: 0.9968 - val_loss: 0.0129 - val_accuracy: 0.9925\n",
      "Epoch 6/20\n",
      "3311/3311 [==============================] - 15s 4ms/step - loss: 0.0073 - accuracy: 0.9972 - val_loss: 0.0039 - val_accuracy: 0.9999\n",
      "Epoch 7/20\n",
      "3311/3311 [==============================] - 14s 4ms/step - loss: 0.0090 - accuracy: 0.9978 - val_loss: 0.0062 - val_accuracy: 0.9987\n",
      "Epoch 8/20\n",
      "3311/3311 [==============================] - 15s 4ms/step - loss: 0.0063 - accuracy: 0.9976 - val_loss: 0.0082 - val_accuracy: 0.9964\n",
      "Epoch 9/20\n",
      "3311/3311 [==============================] - 15s 4ms/step - loss: 0.0069 - accuracy: 0.9978 - val_loss: 0.0061 - val_accuracy: 0.9982\n",
      "Epoch 10/20\n",
      "3311/3311 [==============================] - 15s 5ms/step - loss: 0.0057 - accuracy: 0.9989 - val_loss: 0.0053 - val_accuracy: 0.9986\n",
      "Epoch 11/20\n",
      "3311/3311 [==============================] - 15s 5ms/step - loss: 0.0047 - accuracy: 0.9989 - val_loss: 0.0064 - val_accuracy: 0.9979\n"
     ]
    }
   ],
   "source": [
    "epochs = 20\n",
    "batch_size = 128\n",
    "\n",
    "history = model.fit(x_train, y_train, validation_data=(x_val, y_val), epochs=epochs, batch_size=batch_size, callbacks=callbacks)"
   ]
  },
  {
   "cell_type": "code",
   "execution_count": 28,
   "id": "8e98f2c3-4916-4cc7-a5da-b20e2e50a7b1",
   "metadata": {},
   "outputs": [
    {
     "name": "stdout",
     "output_type": "stream",
     "text": [
      "2921/2921 [==============================] - 8s 3ms/step - loss: 0.0032 - accuracy: 0.9999\n"
     ]
    },
    {
     "data": {
      "text/plain": [
       "[0.003189682262018323, 0.9999144077301025]"
      ]
     },
     "execution_count": 28,
     "metadata": {},
     "output_type": "execute_result"
    }
   ],
   "source": [
    "model.evaluate(x_test, y_test)"
   ]
  },
  {
   "cell_type": "code",
   "execution_count": 35,
   "id": "bcb643f5-3e78-44a2-a9cb-6438fded4c82",
   "metadata": {},
   "outputs": [
    {
     "name": "stdout",
     "output_type": "stream",
     "text": [
      "Precision: 0.9895287958115183\n",
      "Recall: 0.9964850615114236\n",
      "F1-Measure: 0.9929947460595447\n"
     ]
    }
   ],
   "source": [
    "preds = model.predict(x_test)\n",
    "\n",
    "# One hot to the original label encodings\n",
    "y_true = y_test.argmax(axis=1)\n",
    "\n",
    "# Derive the label predictions from the probability scores\n",
    "y_preds = preds.argmax(axis=1)\n",
    "\n",
    "# Compute precision, recall, f1 scores\n",
    "precision = precision_score(y_true, y_preds)\n",
    "recall = recall_score(y_true, y_preds)\n",
    "f1_measure = f1_score(y_true, y_preds)\n",
    "\n",
    "print(f\"Precision: {precision}\")\n",
    "print(f\"Recall: {recall}\")\n",
    "print(f\"F1-Measure: {f1_measure}\")"
   ]
  },
  {
   "cell_type": "code",
   "execution_count": 33,
   "id": "e71a8789-b6f9-4b48-87aa-efc05f7b4df6",
   "metadata": {},
   "outputs": [
    {
     "data": {
      "text/plain": [
       "0.9982102362296339"
      ]
     },
     "execution_count": 33,
     "metadata": {},
     "output_type": "execute_result"
    }
   ],
   "source": [
    "roc_auc_score(y_true, y_preds)"
   ]
  },
  {
   "cell_type": "code",
   "execution_count": 34,
   "id": "03107605-3525-48bd-bf24-6f5433a05b72",
   "metadata": {},
   "outputs": [
    {
     "data": {
      "text/plain": [
       "Text(33.0, 0.5, 'True Label')"
      ]
     },
     "execution_count": 34,
     "metadata": {},
     "output_type": "execute_result"
    },
    {
     "data": {
      "image/png": "[encoded data removed]",
      "text/plain": [
       "<Figure size 432x288 with 2 Axes>"
      ]
     },
     "metadata": {
      "needs_background": "light"
     },
     "output_type": "display_data"
    }
   ],
   "source": [
    "cm = confusion_matrix(y_true, y_preds)\n",
    "plt.title(\"Confusion Matrix\")\n",
    "ax = sns.heatmap(cm, annot=True, fmt='0.0f')\n",
    "ax.invert_yaxis()\n",
    "ax.invert_xaxis()\n",
    "ax.set_xlabel('Predicted Label')\n",
    "ax.set_ylabel('True Label')"
   ]
  },
  {
   "cell_type": "code",
   "execution_count": null,
   "id": "ead8d8a1-0130-4f18-807e-527a370ad945",
   "metadata": {},
   "outputs": [],
   "source": []
  }
 ],
 "metadata": {
  "kernelspec": {
   "display_name": "Python 3 (ipykernel)",
   "language": "python",
   "name": "python3"
  },
  "language_info": {
   "codemirror_mode": {
    "name": "ipython",
    "version": 3
   },
   "file_extension": ".py",
   "mimetype": "text/x-python",
   "name": "python",
   "nbconvert_exporter": "python",
   "pygments_lexer": "ipython3",
   "version": "3.8.12"
  }
 },
 "nbformat": 4,
 "nbformat_minor": 5
}
