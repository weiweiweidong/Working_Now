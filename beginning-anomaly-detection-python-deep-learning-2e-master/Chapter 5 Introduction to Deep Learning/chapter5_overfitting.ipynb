{
 "cells": [
  {
   "cell_type": "code",
   "execution_count": 2,
   "id": "68ff577f-f64f-4f40-9272-dc77b53d1ad9",
   "metadata": {},
   "outputs": [],
   "source": [
    "import numpy as np\n",
    "import matplotlib.pyplot as plt"
   ]
  },
  {
   "cell_type": "markdown",
   "id": "891b2297-507f-4c38-beed-1d725635396a",
   "metadata": {},
   "source": [
    "# Overfitting\n",
    "\n",
    "In this notebook, we will be getting a neural network to overfit on some dataset to obtain the plots of the loss curves used in Chapter 5.\n",
    "\n",
    "### Loss Curve Example\n",
    "\n",
    "Overfitting a simple CNN on the MNIST dataset and plotting the resulting loss curves"
   ]
  },
  {
   "cell_type": "code",
   "execution_count": 465,
   "id": "e4f55328-fc1f-4b90-9cf8-ec54014670aa",
   "metadata": {},
   "outputs": [],
   "source": [
    "from tensorflow.keras.datasets import mnist\n",
    "from tensorflow.keras.utils import to_categorical\n",
    "from sklearn.model_selection import train_test_split"
   ]
  },
  {
   "cell_type": "code",
   "execution_count": 466,
   "id": "1c6187d7-a756-4ba7-9e15-affba65613e2",
   "metadata": {},
   "outputs": [],
   "source": [
    "(x_train, y_train), (x_test, y_test) = mnist.load_data()\n",
    "\n",
    "x_train = x_train.reshape(-1, 28, 28, 1)\n",
    "x_test = x_test.reshape(-1, 28, 28, 1)\n",
    "\n",
    "y_train = to_categorical(y_train)\n",
    "y_test = to_categorical(y_test)"
   ]
  },
  {
   "cell_type": "code",
   "execution_count": 468,
   "id": "1a6cd1aa-47b6-4705-a18a-e29ea0912f6b",
   "metadata": {},
   "outputs": [],
   "source": [
    "x_train, x_val, y_train, y_val = train_test_split(x_train, y_train, test_size=0.2, random_state=42)"
   ]
  },
  {
   "cell_type": "code",
   "execution_count": 491,
   "id": "996a06c9-9a1c-4010-af2c-63f32b4f9c06",
   "metadata": {},
   "outputs": [
    {
     "name": "stdout",
     "output_type": "stream",
     "text": [
      "Model: \"model_9\"\n",
      "_________________________________________________________________\n",
      " Layer (type)                Output Shape              Param #   \n",
      "=================================================================\n",
      " input_23 (InputLayer)       [(None, 28, 28, 1)]       0         \n",
      "                                                                 \n",
      " conv2d_59 (Conv2D)          (None, 13, 13, 32)        320       \n",
      "                                                                 \n",
      " conv2d_60 (Conv2D)          (None, 6, 6, 16)          4624      \n",
      "                                                                 \n",
      " conv2d_61 (Conv2D)          (None, 2, 2, 8)           1160      \n",
      "                                                                 \n",
      " flatten_19 (Flatten)        (None, 32)                0         \n",
      "                                                                 \n",
      " dense_16 (Dense)            (None, 10)                330       \n",
      "                                                                 \n",
      "=================================================================\n",
      "Total params: 6,434\n",
      "Trainable params: 6,434\n",
      "Non-trainable params: 0\n",
      "_________________________________________________________________\n"
     ]
    }
   ],
   "source": [
    "from tensorflow.keras.models import Model\n",
    "from tensorflow.keras.layers import Dense, Conv2D, Flatten, Input\n",
    "\n",
    "input_layer = Input(shape=(28,28, 1))\n",
    "layer1 = Conv2D(kernel_size=3, filters=32, strides=2, activation='relu')(input_layer)\n",
    "layer2 = Conv2D(kernel_size=3, filters=16, strides=2, activation='relu')(layer1)\n",
    "layer3 = Conv2D(kernel_size=3, filters=8, strides=2, activation='relu')(layer2)\n",
    "flat = Flatten()(layer3)\n",
    "output_layer = Dense(10, activation='softmax')(flat)\n",
    "\n",
    "model = Model(input_layer, output_layer)\n",
    "model.summary()"
   ]
  },
  {
   "cell_type": "code",
   "execution_count": 492,
   "id": "f50dbe20-9f89-4e7e-a88e-c92f5451f004",
   "metadata": {},
   "outputs": [],
   "source": [
    "model.compile(optimizer='adam', loss='categorical_crossentropy', metrics=['accuracy'])"
   ]
  },
  {
   "cell_type": "code",
   "execution_count": 493,
   "id": "6fa3b090-9102-4758-9587-f63f9d044d54",
   "metadata": {},
   "outputs": [
    {
     "name": "stdout",
     "output_type": "stream",
     "text": [
      "Epoch 1/64\n",
      "300/300 [==============================] - 2s 5ms/step - loss: 2.0196 - accuracy: 0.4180 - val_loss: 0.8400 - val_accuracy: 0.7389\n",
      "Epoch 2/64\n",
      "300/300 [==============================] - 1s 5ms/step - loss: 0.5535 - accuracy: 0.8339 - val_loss: 0.4095 - val_accuracy: 0.8799\n",
      "Epoch 3/64\n",
      "300/300 [==============================] - 1s 4ms/step - loss: 0.3432 - accuracy: 0.8984 - val_loss: 0.2957 - val_accuracy: 0.9120\n",
      "Epoch 4/64\n",
      "300/300 [==============================] - 1s 4ms/step - loss: 0.2565 - accuracy: 0.9237 - val_loss: 0.2319 - val_accuracy: 0.9306\n",
      "Epoch 5/64\n",
      "300/300 [==============================] - 1s 4ms/step - loss: 0.2013 - accuracy: 0.9405 - val_loss: 0.2090 - val_accuracy: 0.9422\n",
      "Epoch 6/64\n",
      "300/300 [==============================] - 1s 4ms/step - loss: 0.1730 - accuracy: 0.9486 - val_loss: 0.1854 - val_accuracy: 0.9466\n",
      "Epoch 7/64\n",
      "300/300 [==============================] - 1s 4ms/step - loss: 0.1510 - accuracy: 0.9547 - val_loss: 0.1915 - val_accuracy: 0.9424\n",
      "Epoch 8/64\n",
      "300/300 [==============================] - 1s 5ms/step - loss: 0.1375 - accuracy: 0.9593 - val_loss: 0.1586 - val_accuracy: 0.9556\n",
      "Epoch 9/64\n",
      "300/300 [==============================] - 1s 4ms/step - loss: 0.1247 - accuracy: 0.9631 - val_loss: 0.1504 - val_accuracy: 0.9569\n",
      "Epoch 10/64\n",
      "300/300 [==============================] - 1s 4ms/step - loss: 0.1146 - accuracy: 0.9650 - val_loss: 0.1502 - val_accuracy: 0.9572\n",
      "Epoch 11/64\n",
      "300/300 [==============================] - 1s 5ms/step - loss: 0.1043 - accuracy: 0.9682 - val_loss: 0.1441 - val_accuracy: 0.9594\n",
      "Epoch 12/64\n",
      "300/300 [==============================] - 1s 4ms/step - loss: 0.0973 - accuracy: 0.9702 - val_loss: 0.1431 - val_accuracy: 0.9590\n",
      "Epoch 13/64\n",
      "300/300 [==============================] - 1s 4ms/step - loss: 0.0921 - accuracy: 0.9705 - val_loss: 0.1448 - val_accuracy: 0.9580\n",
      "Epoch 14/64\n",
      "300/300 [==============================] - 1s 4ms/step - loss: 0.0841 - accuracy: 0.9748 - val_loss: 0.1387 - val_accuracy: 0.9610\n",
      "Epoch 15/64\n",
      "300/300 [==============================] - 1s 4ms/step - loss: 0.0806 - accuracy: 0.9744 - val_loss: 0.1304 - val_accuracy: 0.9596\n",
      "Epoch 16/64\n",
      "300/300 [==============================] - 1s 4ms/step - loss: 0.0755 - accuracy: 0.9767 - val_loss: 0.1467 - val_accuracy: 0.9605\n",
      "Epoch 17/64\n",
      "300/300 [==============================] - 1s 4ms/step - loss: 0.0704 - accuracy: 0.9786 - val_loss: 0.1340 - val_accuracy: 0.9632\n",
      "Epoch 18/64\n",
      "300/300 [==============================] - 1s 4ms/step - loss: 0.0663 - accuracy: 0.9793 - val_loss: 0.1282 - val_accuracy: 0.9641\n",
      "Epoch 19/64\n",
      "300/300 [==============================] - 1s 4ms/step - loss: 0.0623 - accuracy: 0.9801 - val_loss: 0.1379 - val_accuracy: 0.9627\n",
      "Epoch 20/64\n",
      "300/300 [==============================] - 1s 4ms/step - loss: 0.0606 - accuracy: 0.9807 - val_loss: 0.1291 - val_accuracy: 0.9636\n",
      "Epoch 21/64\n",
      "300/300 [==============================] - 1s 4ms/step - loss: 0.0574 - accuracy: 0.9821 - val_loss: 0.1326 - val_accuracy: 0.9628\n",
      "Epoch 22/64\n",
      "300/300 [==============================] - 1s 4ms/step - loss: 0.0557 - accuracy: 0.9822 - val_loss: 0.1317 - val_accuracy: 0.9655\n",
      "Epoch 23/64\n",
      "300/300 [==============================] - 1s 4ms/step - loss: 0.0523 - accuracy: 0.9832 - val_loss: 0.1334 - val_accuracy: 0.9642\n",
      "Epoch 24/64\n",
      "300/300 [==============================] - 1s 4ms/step - loss: 0.0517 - accuracy: 0.9833 - val_loss: 0.1284 - val_accuracy: 0.9672\n",
      "Epoch 25/64\n",
      "300/300 [==============================] - 1s 4ms/step - loss: 0.0492 - accuracy: 0.9836 - val_loss: 0.1427 - val_accuracy: 0.9634\n",
      "Epoch 26/64\n",
      "300/300 [==============================] - 1s 4ms/step - loss: 0.0466 - accuracy: 0.9849 - val_loss: 0.1356 - val_accuracy: 0.9647\n",
      "Epoch 27/64\n",
      "300/300 [==============================] - 1s 4ms/step - loss: 0.0442 - accuracy: 0.9858 - val_loss: 0.1420 - val_accuracy: 0.9639\n",
      "Epoch 28/64\n",
      "300/300 [==============================] - 1s 4ms/step - loss: 0.0407 - accuracy: 0.9867 - val_loss: 0.1433 - val_accuracy: 0.9651\n",
      "Epoch 29/64\n",
      "300/300 [==============================] - 1s 4ms/step - loss: 0.0389 - accuracy: 0.9874 - val_loss: 0.1482 - val_accuracy: 0.9617\n",
      "Epoch 30/64\n",
      "300/300 [==============================] - 1s 4ms/step - loss: 0.0393 - accuracy: 0.9871 - val_loss: 0.1449 - val_accuracy: 0.9667\n",
      "Epoch 31/64\n",
      "300/300 [==============================] - 1s 4ms/step - loss: 0.0386 - accuracy: 0.9869 - val_loss: 0.1469 - val_accuracy: 0.9648\n",
      "Epoch 32/64\n",
      "300/300 [==============================] - 1s 4ms/step - loss: 0.0365 - accuracy: 0.9878 - val_loss: 0.1483 - val_accuracy: 0.9630\n",
      "Epoch 33/64\n",
      "300/300 [==============================] - 1s 4ms/step - loss: 0.0333 - accuracy: 0.9896 - val_loss: 0.1477 - val_accuracy: 0.9652\n",
      "Epoch 34/64\n",
      "300/300 [==============================] - 1s 4ms/step - loss: 0.0335 - accuracy: 0.9885 - val_loss: 0.1527 - val_accuracy: 0.9650\n",
      "Epoch 35/64\n",
      "300/300 [==============================] - 1s 4ms/step - loss: 0.0373 - accuracy: 0.9876 - val_loss: 0.1564 - val_accuracy: 0.9654\n",
      "Epoch 36/64\n",
      "300/300 [==============================] - 1s 4ms/step - loss: 0.0327 - accuracy: 0.9889 - val_loss: 0.1651 - val_accuracy: 0.9647\n",
      "Epoch 37/64\n",
      "300/300 [==============================] - 1s 4ms/step - loss: 0.0308 - accuracy: 0.9901 - val_loss: 0.1562 - val_accuracy: 0.9663\n",
      "Epoch 38/64\n",
      "300/300 [==============================] - 1s 4ms/step - loss: 0.0296 - accuracy: 0.9899 - val_loss: 0.1913 - val_accuracy: 0.9629\n",
      "Epoch 39/64\n",
      "300/300 [==============================] - 1s 4ms/step - loss: 0.0301 - accuracy: 0.9901 - val_loss: 0.1640 - val_accuracy: 0.9667\n",
      "Epoch 40/64\n",
      "300/300 [==============================] - 1s 4ms/step - loss: 0.0265 - accuracy: 0.9913 - val_loss: 0.1663 - val_accuracy: 0.9650\n",
      "Epoch 41/64\n",
      "300/300 [==============================] - 1s 4ms/step - loss: 0.0279 - accuracy: 0.9901 - val_loss: 0.1775 - val_accuracy: 0.9659\n",
      "Epoch 42/64\n",
      "300/300 [==============================] - 1s 4ms/step - loss: 0.0288 - accuracy: 0.9907 - val_loss: 0.1752 - val_accuracy: 0.9628\n",
      "Epoch 43/64\n",
      "300/300 [==============================] - 1s 4ms/step - loss: 0.0290 - accuracy: 0.9900 - val_loss: 0.1821 - val_accuracy: 0.9646\n",
      "Epoch 44/64\n",
      "300/300 [==============================] - 1s 4ms/step - loss: 0.0226 - accuracy: 0.9926 - val_loss: 0.1843 - val_accuracy: 0.9649\n",
      "Epoch 45/64\n",
      "300/300 [==============================] - 1s 4ms/step - loss: 0.0255 - accuracy: 0.9914 - val_loss: 0.1957 - val_accuracy: 0.9636\n",
      "Epoch 46/64\n",
      "300/300 [==============================] - 1s 4ms/step - loss: 0.0255 - accuracy: 0.9914 - val_loss: 0.2003 - val_accuracy: 0.9663\n",
      "Epoch 47/64\n",
      "300/300 [==============================] - 1s 4ms/step - loss: 0.0260 - accuracy: 0.9915 - val_loss: 0.2015 - val_accuracy: 0.9625\n",
      "Epoch 48/64\n",
      "300/300 [==============================] - 1s 4ms/step - loss: 0.0244 - accuracy: 0.9912 - val_loss: 0.2048 - val_accuracy: 0.9634\n",
      "Epoch 49/64\n",
      "300/300 [==============================] - 1s 4ms/step - loss: 0.0242 - accuracy: 0.9922 - val_loss: 0.2254 - val_accuracy: 0.9625\n",
      "Epoch 50/64\n",
      "300/300 [==============================] - 1s 5ms/step - loss: 0.0213 - accuracy: 0.9926 - val_loss: 0.2123 - val_accuracy: 0.9631\n",
      "Epoch 51/64\n",
      "300/300 [==============================] - 1s 4ms/step - loss: 0.0228 - accuracy: 0.9919 - val_loss: 0.2150 - val_accuracy: 0.9624\n",
      "Epoch 52/64\n",
      "300/300 [==============================] - 1s 4ms/step - loss: 0.0235 - accuracy: 0.9924 - val_loss: 0.1987 - val_accuracy: 0.9663\n",
      "Epoch 53/64\n",
      "300/300 [==============================] - 1s 4ms/step - loss: 0.0173 - accuracy: 0.9942 - val_loss: 0.2134 - val_accuracy: 0.9633\n",
      "Epoch 54/64\n",
      "300/300 [==============================] - 1s 4ms/step - loss: 0.0256 - accuracy: 0.9917 - val_loss: 0.2085 - val_accuracy: 0.9668\n",
      "Epoch 55/64\n",
      "300/300 [==============================] - 1s 4ms/step - loss: 0.0214 - accuracy: 0.9927 - val_loss: 0.2309 - val_accuracy: 0.9623\n",
      "Epoch 56/64\n",
      "300/300 [==============================] - 1s 4ms/step - loss: 0.0271 - accuracy: 0.9908 - val_loss: 0.2263 - val_accuracy: 0.9647\n",
      "Epoch 57/64\n",
      "300/300 [==============================] - 1s 4ms/step - loss: 0.0243 - accuracy: 0.9913 - val_loss: 0.2219 - val_accuracy: 0.9650\n",
      "Epoch 58/64\n",
      "300/300 [==============================] - 1s 4ms/step - loss: 0.0166 - accuracy: 0.9945 - val_loss: 0.2253 - val_accuracy: 0.9619\n",
      "Epoch 59/64\n",
      "300/300 [==============================] - 1s 4ms/step - loss: 0.0202 - accuracy: 0.9934 - val_loss: 0.2311 - val_accuracy: 0.9631\n",
      "Epoch 60/64\n",
      "300/300 [==============================] - 1s 4ms/step - loss: 0.0148 - accuracy: 0.9954 - val_loss: 0.2259 - val_accuracy: 0.9648\n",
      "Epoch 61/64\n",
      "300/300 [==============================] - 1s 4ms/step - loss: 0.0179 - accuracy: 0.9937 - val_loss: 0.2748 - val_accuracy: 0.9599\n",
      "Epoch 62/64\n",
      "300/300 [==============================] - 1s 4ms/step - loss: 0.0223 - accuracy: 0.9921 - val_loss: 0.2363 - val_accuracy: 0.9643\n",
      "Epoch 63/64\n",
      "300/300 [==============================] - 1s 4ms/step - loss: 0.0207 - accuracy: 0.9935 - val_loss: 0.2336 - val_accuracy: 0.9641\n",
      "Epoch 64/64\n",
      "300/300 [==============================] - 1s 4ms/step - loss: 0.0205 - accuracy: 0.9934 - val_loss: 0.2344 - val_accuracy: 0.9638\n"
     ]
    }
   ],
   "source": [
    "history = model.fit(x_train, y_train, batch_size=128, validation_data=(x_val, y_val), epochs=64)"
   ]
  },
  {
   "cell_type": "code",
   "execution_count": 494,
   "id": "7665c273-a9c5-4031-a45d-f28f187f538f",
   "metadata": {},
   "outputs": [],
   "source": [
    "history_dict = history.history"
   ]
  },
  {
   "cell_type": "markdown",
   "id": "ee747e90-9ac5-4de3-b4a3-c63558052602",
   "metadata": {},
   "source": [
    "Plotting the loss curve using the training history. It is easy to see the point where we have begun to overfit."
   ]
  },
  {
   "cell_type": "code",
   "execution_count": 495,
   "id": "15cf3f21-e66e-4569-b444-cc6d8e7b6a73",
   "metadata": {},
   "outputs": [
    {
     "data": {
      "text/plain": [
       "<matplotlib.legend.Legend at 0x287cab3d970>"
      ]
     },
     "execution_count": 495,
     "metadata": {},
     "output_type": "execute_result"
    },
    {
     "data": {
      "image/png": "[encoded data removed]",
      "text/plain": [
       "<Figure size 432x288 with 1 Axes>"
      ]
     },
     "metadata": {
      "needs_background": "light"
     },
     "output_type": "display_data"
    }
   ],
   "source": [
    "plt.title(\"Loss Curve\")\n",
    "\n",
    "plt.plot(history_dict['loss'], label='training_loss')\n",
    "plt.plot(history_dict['val_loss'], label='validation_loss')\n",
    "\n",
    "plt.vlines(np.argmin(history_dict['val_loss']), 0, np.max(history_dict['loss']),\n",
    "           label = 'overfitting', linestyles='dashed', color='red')\n",
    "\n",
    "plt.ylabel(\"Loss\")\n",
    "plt.xlabel(\"Epochs\")\n",
    "plt.legend()\n"
   ]
  },
  {
   "cell_type": "code",
   "execution_count": 496,
   "id": "780d4313-9ec1-46e7-855a-9ce1eef40eac",
   "metadata": {},
   "outputs": [
    {
     "name": "stdout",
     "output_type": "stream",
     "text": [
      "Overfitting Boundary Epoch: 17\n"
     ]
    }
   ],
   "source": [
    "print(\"Overfitting Boundary Epoch:\", np.argmin(history_dict['val_loss']))"
   ]
  },
  {
   "cell_type": "code",
   "execution_count": 497,
   "id": "653c306e-0032-4258-90da-8c84e7294128",
   "metadata": {},
   "outputs": [
    {
     "data": {
      "text/plain": [
       "<matplotlib.legend.Legend at 0x282f4b3f790>"
      ]
     },
     "execution_count": 497,
     "metadata": {},
     "output_type": "execute_result"
    },
    {
     "data": {
      "image/png": "[encoded data removed]",
      "text/plain": [
       "<Figure size 432x288 with 1 Axes>"
      ]
     },
     "metadata": {
      "needs_background": "light"
     },
     "output_type": "display_data"
    }
   ],
   "source": [
    "plt.title(\"Accuracy Curve\")\n",
    "\n",
    "plt.plot(history_dict['accuracy'], label='training_accuracy')\n",
    "plt.plot(history_dict['val_accuracy'], label='validation_accuracy')\n",
    "\n",
    "plt.ylabel(\"Accuracy\")\n",
    "plt.xlabel(\"Epochs\")\n",
    "plt.legend()\n"
   ]
  },
  {
   "cell_type": "code",
   "execution_count": 481,
   "id": "441d5fc8-8920-4319-8e4a-7ea6427ef209",
   "metadata": {},
   "outputs": [
    {
     "name": "stdout",
     "output_type": "stream",
     "text": [
      "313/313 [==============================] - 1s 3ms/step - loss: 0.1885 - accuracy: 0.9724\n"
     ]
    }
   ],
   "source": [
    "test_results = model.evaluate(x_test, y_test)"
   ]
  },
  {
   "cell_type": "code",
   "execution_count": 482,
   "id": "9f801b0e-06fe-4b3d-921d-00dbe624a6b6",
   "metadata": {},
   "outputs": [
    {
     "data": {
      "text/plain": [
       "[0.18848606944084167, 0.9724000096321106]"
      ]
     },
     "execution_count": 482,
     "metadata": {},
     "output_type": "execute_result"
    }
   ],
   "source": [
    "test_results"
   ]
  },
  {
   "cell_type": "code",
   "execution_count": null,
   "id": "1c9c4e4e-3e6f-4335-a770-57db7a55b423",
   "metadata": {},
   "outputs": [],
   "source": []
  }
 ],
 "metadata": {
  "kernelspec": {
   "display_name": "Python 3 (ipykernel)",
   "language": "python",
   "name": "python3"
  },
  "language_info": {
   "codemirror_mode": {
    "name": "ipython",
    "version": 3
   },
   "file_extension": ".py",
   "mimetype": "text/x-python",
   "name": "python",
   "nbconvert_exporter": "python",
   "pygments_lexer": "ipython3",
   "version": "3.8.12"
  }
 },
 "nbformat": 4,
 "nbformat_minor": 5
}
