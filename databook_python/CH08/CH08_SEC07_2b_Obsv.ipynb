{
 "cells": [
  {
   "cell_type": "code",
   "execution_count": 1,
   "metadata": {},
   "outputs": [
    {
     "ename": "ImportError",
     "evalue": "dlopen(/Users/dongwei/opt/anaconda3/envs/HelloWorld/lib/python3.10/site-packages/slycot/_wrapper.cpython-310-darwin.so, 0x0002): tried: '/Users/dongwei/opt/anaconda3/envs/HelloWorld/lib/python3.10/site-packages/slycot/_wrapper.cpython-310-darwin.so' (mach-o file, but is an incompatible architecture (have 'arm64', need 'x86_64')), '/System/Volumes/Preboot/Cryptexes/OS/Users/dongwei/opt/anaconda3/envs/HelloWorld/lib/python3.10/site-packages/slycot/_wrapper.cpython-310-darwin.so' (no such file), '/Users/dongwei/opt/anaconda3/envs/HelloWorld/lib/python3.10/site-packages/slycot/_wrapper.cpython-310-darwin.so' (mach-o file, but is an incompatible architecture (have 'arm64', need 'x86_64'))",
     "output_type": "error",
     "traceback": [
      "\u001b[0;31m---------------------------------------------------------------------------\u001b[0m",
      "\u001b[0;31mImportError\u001b[0m                               Traceback (most recent call last)",
      "Cell \u001b[0;32mIn[1], line 5\u001b[0m\n\u001b[1;32m      3\u001b[0m \u001b[38;5;28;01mfrom\u001b[39;00m \u001b[38;5;21;01mmatplotlib\u001b[39;00m \u001b[38;5;28;01mimport\u001b[39;00m rcParams\n\u001b[1;32m      4\u001b[0m \u001b[38;5;28;01mfrom\u001b[39;00m \u001b[38;5;21;01mcontrol\u001b[39;00m\u001b[38;5;21;01m.\u001b[39;00m\u001b[38;5;21;01mmatlab\u001b[39;00m \u001b[38;5;28;01mimport\u001b[39;00m \u001b[38;5;241m*\u001b[39m\n\u001b[0;32m----> 5\u001b[0m \u001b[38;5;28;01mimport\u001b[39;00m \u001b[38;5;21;01mslycot\u001b[39;00m\n\u001b[1;32m      6\u001b[0m \u001b[38;5;28;01mfrom\u001b[39;00m \u001b[38;5;21;01mscipy\u001b[39;00m \u001b[38;5;28;01mimport\u001b[39;00m integrate\n\u001b[1;32m      7\u001b[0m \u001b[38;5;28;01mfrom\u001b[39;00m \u001b[38;5;21;01mscipy\u001b[39;00m\u001b[38;5;21;01m.\u001b[39;00m\u001b[38;5;21;01mlinalg\u001b[39;00m \u001b[38;5;28;01mimport\u001b[39;00m schur\n",
      "File \u001b[0;32m~/opt/anaconda3/envs/HelloWorld/lib/python3.10/site-packages/slycot/__init__.py:31\u001b[0m\n\u001b[1;32m     10\u001b[0m     \u001b[38;5;28;01mdel\u001b[39;00m _sys\n\u001b[1;32m     11\u001b[0m \u001b[38;5;28;01melse\u001b[39;00m:\n\u001b[1;32m     12\u001b[0m \n\u001b[1;32m     13\u001b[0m     \u001b[38;5;66;03m# import slycot.examples\u001b[39;00m\n\u001b[0;32m   (...)\u001b[0m\n\u001b[1;32m     29\u001b[0m \n\u001b[1;32m     30\u001b[0m     \u001b[38;5;66;03m# Analysis routines (18/61 wrapped)\u001b[39;00m\n\u001b[0;32m---> 31\u001b[0m     \u001b[38;5;28;01mfrom\u001b[39;00m \u001b[38;5;21;01m.\u001b[39;00m\u001b[38;5;21;01manalysis\u001b[39;00m \u001b[38;5;28;01mimport\u001b[39;00m (ab01nd,\n\u001b[1;32m     32\u001b[0m                            ab04md,\n\u001b[1;32m     33\u001b[0m                            ab05md, ab05nd,\n\u001b[1;32m     34\u001b[0m                            ab07nd,\n\u001b[1;32m     35\u001b[0m                            ab08nd, ab08nz,\n\u001b[1;32m     36\u001b[0m                            ab09ad, ab09ax, ab09bd, ab09md, ab09nd,\n\u001b[1;32m     37\u001b[0m                            ab13bd, ab13dd, ab13ed, ab13fd, ab13md,\n\u001b[1;32m     38\u001b[0m                            ag08bd)\n\u001b[1;32m     40\u001b[0m     \u001b[38;5;66;03m# Benchmark routines (0/6 wrapped)\u001b[39;00m\n\u001b[1;32m     41\u001b[0m \n\u001b[1;32m     42\u001b[0m     \u001b[38;5;66;03m# Adaptive control routines (0/0 wrapped)\u001b[39;00m\n\u001b[0;32m   (...)\u001b[0m\n\u001b[1;32m     49\u001b[0m \n\u001b[1;32m     50\u001b[0m     \u001b[38;5;66;03m# Mathematical routines (8/291 wrapped)\u001b[39;00m\n\u001b[1;32m     51\u001b[0m     \u001b[38;5;28;01mfrom\u001b[39;00m \u001b[38;5;21;01m.\u001b[39;00m\u001b[38;5;21;01mmath\u001b[39;00m \u001b[38;5;28;01mimport\u001b[39;00m (mb02ed, mb03rd, mb03vd, mb03vy, mb03wd,\n\u001b[1;32m     52\u001b[0m                        mb05md, mb05nd,\n\u001b[1;32m     53\u001b[0m                        mc01td)\n",
      "File \u001b[0;32m~/opt/anaconda3/envs/HelloWorld/lib/python3.10/site-packages/slycot/analysis.py:22\u001b[0m\n\u001b[1;32m      1\u001b[0m \u001b[38;5;66;03m#\u001b[39;00m\n\u001b[1;32m      2\u001b[0m \u001b[38;5;66;03m#       analysis.py\u001b[39;00m\n\u001b[1;32m      3\u001b[0m \u001b[38;5;66;03m#\u001b[39;00m\n\u001b[0;32m   (...)\u001b[0m\n\u001b[1;32m     17\u001b[0m \u001b[38;5;66;03m#       Foundation, Inc., 51 Franklin Street, Fifth Floor, Boston,\u001b[39;00m\n\u001b[1;32m     18\u001b[0m \u001b[38;5;66;03m#       MA 02110-1301, USA.\u001b[39;00m\n\u001b[1;32m     20\u001b[0m \u001b[38;5;28;01mimport\u001b[39;00m \u001b[38;5;21;01mnumpy\u001b[39;00m \u001b[38;5;28;01mas\u001b[39;00m \u001b[38;5;21;01mnp\u001b[39;00m\n\u001b[0;32m---> 22\u001b[0m \u001b[38;5;28;01mfrom\u001b[39;00m \u001b[38;5;21;01m.\u001b[39;00m \u001b[38;5;28;01mimport\u001b[39;00m _wrapper\n\u001b[1;32m     23\u001b[0m \u001b[38;5;28;01mfrom\u001b[39;00m \u001b[38;5;21;01m.\u001b[39;00m\u001b[38;5;21;01mexceptions\u001b[39;00m \u001b[38;5;28;01mimport\u001b[39;00m raise_if_slycot_error, SlycotParameterError\n\u001b[1;32m     26\u001b[0m \u001b[38;5;28;01mdef\u001b[39;00m \u001b[38;5;21mab01nd\u001b[39m(n, m, A, B, jobz\u001b[38;5;241m=\u001b[39m\u001b[38;5;124m'\u001b[39m\u001b[38;5;124mN\u001b[39m\u001b[38;5;124m'\u001b[39m, tol\u001b[38;5;241m=\u001b[39m\u001b[38;5;241m0\u001b[39m, ldwork\u001b[38;5;241m=\u001b[39m\u001b[38;5;28;01mNone\u001b[39;00m):\n",
      "\u001b[0;31mImportError\u001b[0m: dlopen(/Users/dongwei/opt/anaconda3/envs/HelloWorld/lib/python3.10/site-packages/slycot/_wrapper.cpython-310-darwin.so, 0x0002): tried: '/Users/dongwei/opt/anaconda3/envs/HelloWorld/lib/python3.10/site-packages/slycot/_wrapper.cpython-310-darwin.so' (mach-o file, but is an incompatible architecture (have 'arm64', need 'x86_64')), '/System/Volumes/Preboot/Cryptexes/OS/Users/dongwei/opt/anaconda3/envs/HelloWorld/lib/python3.10/site-packages/slycot/_wrapper.cpython-310-darwin.so' (no such file), '/Users/dongwei/opt/anaconda3/envs/HelloWorld/lib/python3.10/site-packages/slycot/_wrapper.cpython-310-darwin.so' (mach-o file, but is an incompatible architecture (have 'arm64', need 'x86_64'))"
     ]
    }
   ],
   "source": [
    "import numpy as np\n",
    "import matplotlib.pyplot as plt\n",
    "from matplotlib import rcParams\n",
    "from control.matlab import *\n",
    "import slycot\n",
    "from scipy import integrate\n",
    "from scipy.linalg import schur\n",
    "# Python control toolbox available at https://python-control.readthedocs.io/\n",
    "\n",
    "plt.rcParams['figure.figsize'] = [8, 8]\n",
    "plt.rcParams.update({'font.size': 18})"
   ]
  },
  {
   "cell_type": "code",
   "execution_count": null,
   "metadata": {},
   "outputs": [
    {
     "name": "stdout",
     "output_type": "stream",
     "text": [
      "Observability matrix:\n",
      "[[ 0.    0.    1.    0.  ]\n",
      " [ 0.    0.    0.    1.  ]\n",
      " [ 0.    0.1  -6.    0.  ]\n",
      " [ 0.   -0.02  0.2  -6.  ]]\n",
      "Observability matrix determinant: 0.0\n"
     ]
    }
   ],
   "source": [
    "m = 1\n",
    "M = 5\n",
    "L = 2\n",
    "g = -10\n",
    "d = 1\n",
    "\n",
    "b = -1 # pendulum down (b = -1)\n",
    "\n",
    "A = np.array([[0,1,0,0],\\\n",
    "              [0,-d/M,b*m*g/M,0],\\\n",
    "              [0,0,0,1],\\\n",
    "              [0,-b*d/(M*L),-b*(m+M)*g/(M*L),0]])\n",
    "\n",
    "B = np.array([0,1/M,0,b/(M*L)]).reshape((4,1))\n",
    "\n",
    "C = np.array([0,0,1,0]) # only observable if x measured... because x can't be\n",
    "\n",
    "print('Observability matrix:\\n{}'.format(obsv(A,C)))\n",
    "print('Observability matrix determinant: {}'.format(np.linalg.det(obsv(A,C))))\n"
   ]
  },
  {
   "cell_type": "code",
   "execution_count": null,
   "metadata": {},
   "outputs": [
    {
     "name": "stdout",
     "output_type": "stream",
     "text": [
      "Observability matrix:\n",
      "[[ 0.   1.   0. ]\n",
      " [ 0.   0.   1. ]\n",
      " [ 0.1 -6.   0. ]]\n",
      "Gramian determinant: 0.031250000000001\n"
     ]
    }
   ],
   "source": [
    "## Which measurements are best if we omit \"x\"\n",
    "Ah = A[1:,1:]\n",
    "Bh = B[1:]\n",
    "# Ch = np.array([1,0,0])\n",
    "Ch = np.array([0,1,0])\n",
    "# Ch = np.array([0,0,1])\n",
    "\n",
    "print('Observability matrix:\\n{}'.format(obsv(Ah,Ch)))\n",
    "\n",
    "Ch = Ch.reshape((1,len(Ch)))\n",
    "Dh = np.zeros((Ch.shape[0],Bh.shape[1]))\n",
    "sys = ss(Ah,Bh,Ch,Dh)\n",
    "print('Gramian determinant: {}'.format(np.linalg.det(gram(sys,'o'))))\n"
   ]
  },
  {
   "cell_type": "code",
   "execution_count": null,
   "metadata": {},
   "outputs": [],
   "source": []
  }
 ],
 "metadata": {
  "kernelspec": {
   "display_name": "Python 3",
   "language": "python",
   "name": "python3"
  },
  "language_info": {
   "codemirror_mode": {
    "name": "ipython",
    "version": 3
   },
   "file_extension": ".py",
   "mimetype": "text/x-python",
   "name": "python",
   "nbconvert_exporter": "python",
   "pygments_lexer": "ipython3",
   "version": "3.10.13"
  }
 },
 "nbformat": 4,
 "nbformat_minor": 2
}
