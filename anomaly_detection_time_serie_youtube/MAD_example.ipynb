{
 "cells": [
  {
   "cell_type": "markdown",
   "metadata": {},
   "source": [
    "# MAD 演示示例"
   ]
  },
  {
   "cell_type": "code",
   "execution_count": 1,
   "metadata": {},
   "outputs": [
    {
     "name": "stdout",
     "output_type": "stream",
     "text": [
      "Median: 18.5\n",
      "MAD: 4.5\n"
     ]
    }
   ],
   "source": [
    "import numpy as np\n",
    "\n",
    "# 数据集\n",
    "data = np.array([10, 12, 23, 23, 16, 23, 21, 16])\n",
    "\n",
    "# 计算中位数\n",
    "median = np.median(data)\n",
    "\n",
    "# 计算绝对偏差\n",
    "abs_deviation = np.abs(data - median)\n",
    "\n",
    "# 计算MAD\n",
    "mad = np.median(abs_deviation)\n",
    "\n",
    "print(\"Median:\", median)\n",
    "print(\"MAD:\", mad)\n"
   ]
  }
 ],
 "metadata": {
  "kernelspec": {
   "display_name": "HelloWorld",
   "language": "python",
   "name": "python3"
  },
  "language_info": {
   "codemirror_mode": {
    "name": "ipython",
    "version": 3
   },
   "file_extension": ".py",
   "mimetype": "text/x-python",
   "name": "python",
   "nbconvert_exporter": "python",
   "pygments_lexer": "ipython3",
   "version": "3.10.13"
  }
 },
 "nbformat": 4,
 "nbformat_minor": 2
}
